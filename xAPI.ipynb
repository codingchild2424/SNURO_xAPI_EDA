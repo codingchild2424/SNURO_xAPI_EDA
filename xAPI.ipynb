{
 "cells": [
  {
   "cell_type": "markdown",
   "metadata": {},
   "source": [
    "# Intro\n",
    "이 주피터 노트북은 xAPI 형태의 데이터를 탐색적으로 분석하는데 그 목적이 있음"
   ]
  },
  {
   "cell_type": "code",
   "execution_count": 1,
   "metadata": {},
   "outputs": [],
   "source": [
    "#Package\n",
    "\n",
    "import pandas as pd\n",
    "import numpy as np\n",
    "import json\n",
    "import matplotlib.pyplot as plt"
   ]
  },
  {
   "cell_type": "markdown",
   "metadata": {},
   "source": [
    "# JSON Parsing"
   ]
  },
  {
   "cell_type": "code",
   "execution_count": 2,
   "metadata": {},
   "outputs": [],
   "source": [
    "#데이터 업로드\n",
    "\n",
    "with open(\"data/XAPI_npe_1215.json\", \"r\", encoding=\"utf8\") as f:\n",
    "    contents = f.read() #String type\n",
    "    json_data = json.loads(contents)"
   ]
  },
  {
   "cell_type": "code",
   "execution_count": 3,
   "metadata": {},
   "outputs": [
    {
     "name": "stdout",
     "output_type": "stream",
     "text": [
      "첫번째 xAPI:  {'actor': {'mbox': 'mailto:learner10@gmail.com', 'name': 'learner10', 'objectType': 'Agent'}, 'id': '5d93125a-3428-3cd6-b4e1-290a7c46d98e', 'object': {'definition': {'name': {'en-US': '삼양문화 진로교육연구원 영화로 떠나는 진로여행 첫 번째_그릿(GRIT)', 'ko-KR': '삼양문화 진로교육연구원 영화로 떠나는 진로여행 첫 번째_그릿(GRIT)'}}, 'id': 'http://127.0.0.1:3000/learner/video/1c9902', 'objectType': 'Activity'}, 'stored': '2021-12-14T18:33:42.326', 'timestamp': '2021-12-14T18:33:42.326', 'verb': {'display': {'en-US': 'view', 'ko-KR': '시청기록'}, 'id': 'http://adlnet.gov/expapi/verbs/view'}}\n",
      "첫번째 xAPI의 Actor의 value:  {'mbox': 'mailto:learner10@gmail.com', 'name': 'learner10', 'objectType': 'Agent'}\n"
     ]
    }
   ],
   "source": [
    "#json_data의 타입은 list임\n",
    "#그 안에 xAPI 데이터를 dict형태로 보관하고 있음\n",
    "#따라서 조회하기 위해서는 리스트 데이터 indexing을 통해 각각의 데이터에 접근하고\n",
    "#이후 딕셔너리를 조작하는 방식으로 작업해야 함\n",
    "print(\"첫번째 xAPI: \", json_data[0])\n",
    "print(\"첫번째 xAPI의 Actor의 value: \", json_data[0]['actor'])"
   ]
  },
  {
   "cell_type": "markdown",
   "metadata": {},
   "source": [
    "### Parsing할 데이터의 목록\n",
    "1. actor(name)\n",
    "2. object - definition - name - ko-KR\n",
    "3. timestamp\n",
    "4. verb, display - ko-KR"
   ]
  },
  {
   "cell_type": "code",
   "execution_count": 4,
   "metadata": {},
   "outputs": [],
   "source": [
    "#데이터를 받을 리스트 준비\n",
    "\n",
    "#actor에서 name만 추출\n",
    "actor_list = []\n",
    "#object에서 definition - name - ko-KR에 있는 데이터만 담기\n",
    "object_list = []\n",
    "#verb에서 display - ko-KR만 추출\n",
    "verb_list = []\n",
    "#timestamp\n",
    "timestamp_list = []"
   ]
  },
  {
   "cell_type": "code",
   "execution_count": 5,
   "metadata": {},
   "outputs": [
    {
     "name": "stdout",
     "output_type": "stream",
     "text": [
      "삼양문화 진로교육연구원 영화로 떠나는 진로여행 첫 번째_그릿(GRIT)\n",
      "True\n",
      "{'actor': {'mbox': 'mailto:learner10@gmail.com', 'name': 'learner10', 'objectType': 'Agent'}, 'id': '88a312df-60bd-30c0-a0ca-9afd862fa0c4', 'object': {}, 'stored': '2021-12-14T18:33:49.432', 'timestamp': '2021-12-14T18:33:49.432', 'verb': {'display': {'en-US': 'quiz_show', 'ko-KR': '퀴즈/메시지 등장'}, 'id': 'http://adlnet.gov/expapi/verbs/quiz_show'}}\n",
      "True\n"
     ]
    }
   ],
   "source": [
    "#6번에 object 없음\n",
    "print(json_data[5]['object']['definition']['name']['ko-KR'])\n",
    "\n",
    "print(json_data[6]['object'] == {})\n",
    "\n",
    "print(json_data[6])\n",
    "\n",
    "print(True or False)"
   ]
  },
  {
   "cell_type": "code",
   "execution_count": 6,
   "metadata": {},
   "outputs": [],
   "source": [
    "for i, xapi in enumerate(json_data):\n",
    "\n",
    "    #object에 있는 결측치를 대체함\n",
    "    if xapi['object'] == {}:\n",
    "        json_data[i]['object'] = {'definition': {'name': {'ko-KR': 'none'}}}\n",
    "    \n",
    "    actor_var = xapi['actor']['name']\n",
    "    object_var = xapi['object']['definition']['name']['ko-KR']\n",
    "    verb_var = xapi['verb']['display']['ko-KR']\n",
    "    timestamp_var = xapi['timestamp']\n",
    "\n",
    "    actor_list.append(actor_var)\n",
    "    object_list.append(object_var)\n",
    "    verb_list.append(verb_var)\n",
    "    timestamp_list.append(timestamp_var)\n",
    "\n",
    "# print(actor_list)\n",
    "# print(object_list)\n",
    "# print(verb_list)\n",
    "# print(timestamp_list)"
   ]
  },
  {
   "cell_type": "markdown",
   "metadata": {},
   "source": [
    "# Pandas EDM"
   ]
  },
  {
   "cell_type": "code",
   "execution_count": 7,
   "metadata": {},
   "outputs": [
    {
     "name": "stdout",
     "output_type": "stream",
     "text": [
      "115068\n"
     ]
    },
    {
     "data": {
      "text/html": [
       "<div>\n",
       "<style scoped>\n",
       "    .dataframe tbody tr th:only-of-type {\n",
       "        vertical-align: middle;\n",
       "    }\n",
       "\n",
       "    .dataframe tbody tr th {\n",
       "        vertical-align: top;\n",
       "    }\n",
       "\n",
       "    .dataframe thead th {\n",
       "        text-align: right;\n",
       "    }\n",
       "</style>\n",
       "<table border=\"1\" class=\"dataframe\">\n",
       "  <thead>\n",
       "    <tr style=\"text-align: right;\">\n",
       "      <th></th>\n",
       "      <th>actor</th>\n",
       "      <th>object</th>\n",
       "      <th>verb</th>\n",
       "      <th>timestamp</th>\n",
       "    </tr>\n",
       "  </thead>\n",
       "  <tbody>\n",
       "    <tr>\n",
       "      <th>0</th>\n",
       "      <td>learner10</td>\n",
       "      <td>삼양문화 진로교육연구원 영화로 떠나는 진로여행 첫 번째_그릿(GRIT)</td>\n",
       "      <td>시청기록</td>\n",
       "      <td>2021-12-14T18:33:42.326</td>\n",
       "    </tr>\n",
       "    <tr>\n",
       "      <th>1</th>\n",
       "      <td>learner10</td>\n",
       "      <td>삼양문화 진로교육연구원 영화로 떠나는 진로여행 첫 번째_그릿(GRIT)</td>\n",
       "      <td>시청중</td>\n",
       "      <td>2021-12-14T18:33:43.406</td>\n",
       "    </tr>\n",
       "    <tr>\n",
       "      <th>2</th>\n",
       "      <td>learner10</td>\n",
       "      <td>삼양문화 진로교육연구원 영화로 떠나는 진로여행 첫 번째_그릿(GRIT)</td>\n",
       "      <td>실행</td>\n",
       "      <td>2021-12-14T18:33:45.010</td>\n",
       "    </tr>\n",
       "    <tr>\n",
       "      <th>3</th>\n",
       "      <td>learner10</td>\n",
       "      <td>삼양문화 진로교육연구원 영화로 떠나는 진로여행 첫 번째_그릿(GRIT)</td>\n",
       "      <td>시청중</td>\n",
       "      <td>2021-12-14T18:33:46.410</td>\n",
       "    </tr>\n",
       "    <tr>\n",
       "      <th>4</th>\n",
       "      <td>learner10</td>\n",
       "      <td>삼양문화 진로교육연구원 영화로 떠나는 진로여행 첫 번째_그릿(GRIT)</td>\n",
       "      <td>시청중</td>\n",
       "      <td>2021-12-14T18:33:47.424</td>\n",
       "    </tr>\n",
       "    <tr>\n",
       "      <th>5</th>\n",
       "      <td>learner10</td>\n",
       "      <td>삼양문화 진로교육연구원 영화로 떠나는 진로여행 첫 번째_그릿(GRIT)</td>\n",
       "      <td>시청중</td>\n",
       "      <td>2021-12-14T18:33:48.417</td>\n",
       "    </tr>\n",
       "    <tr>\n",
       "      <th>6</th>\n",
       "      <td>learner10</td>\n",
       "      <td>none</td>\n",
       "      <td>퀴즈/메시지 등장</td>\n",
       "      <td>2021-12-14T18:33:49.432</td>\n",
       "    </tr>\n",
       "    <tr>\n",
       "      <th>7</th>\n",
       "      <td>learner10</td>\n",
       "      <td>삼양문화 진로교육연구원 영화로 떠나는 진로여행 첫 번째_그릿(GRIT)</td>\n",
       "      <td>중지</td>\n",
       "      <td>2021-12-14T18:33:49.433</td>\n",
       "    </tr>\n",
       "    <tr>\n",
       "      <th>8</th>\n",
       "      <td>learner10</td>\n",
       "      <td>삼양문화 진로교육연구원 영화로 떠나는 진로여행 첫 번째_그릿(GRIT)</td>\n",
       "      <td>시청중</td>\n",
       "      <td>2021-12-14T18:33:49.442</td>\n",
       "    </tr>\n",
       "    <tr>\n",
       "      <th>9</th>\n",
       "      <td>learner10</td>\n",
       "      <td>[1c9902] 성공을 위해서 가장 필요하다고 생각하는 것을 한 가지 고른다면?</td>\n",
       "      <td>퀴즈/메시지 응답</td>\n",
       "      <td>2021-12-14T18:33:52.300</td>\n",
       "    </tr>\n",
       "    <tr>\n",
       "      <th>10</th>\n",
       "      <td>learner10</td>\n",
       "      <td>삼양문화 진로교육연구원 영화로 떠나는 진로여행 첫 번째_그릿(GRIT)</td>\n",
       "      <td>실행</td>\n",
       "      <td>2021-12-14T18:33:52.372</td>\n",
       "    </tr>\n",
       "    <tr>\n",
       "      <th>11</th>\n",
       "      <td>learner10</td>\n",
       "      <td>삼양문화 진로교육연구원 영화로 떠나는 진로여행 첫 번째_그릿(GRIT)</td>\n",
       "      <td>시청중</td>\n",
       "      <td>2021-12-14T18:33:52.438</td>\n",
       "    </tr>\n",
       "    <tr>\n",
       "      <th>12</th>\n",
       "      <td>learner10</td>\n",
       "      <td>삼양문화 진로교육연구원 영화로 떠나는 진로여행 첫 번째_그릿(GRIT)</td>\n",
       "      <td>시청중</td>\n",
       "      <td>2021-12-14T18:33:53.444</td>\n",
       "    </tr>\n",
       "    <tr>\n",
       "      <th>13</th>\n",
       "      <td>learner10</td>\n",
       "      <td>삼양문화 진로교육연구원 영화로 떠나는 진로여행 첫 번째_그릿(GRIT)</td>\n",
       "      <td>시청중</td>\n",
       "      <td>2021-12-14T18:33:54.448</td>\n",
       "    </tr>\n",
       "    <tr>\n",
       "      <th>14</th>\n",
       "      <td>learner10</td>\n",
       "      <td>삼양문화 진로교육연구원 영화로 떠나는 진로여행 첫 번째_그릿(GRIT)</td>\n",
       "      <td>시청중</td>\n",
       "      <td>2021-12-14T18:33:55.450</td>\n",
       "    </tr>\n",
       "    <tr>\n",
       "      <th>15</th>\n",
       "      <td>learner10</td>\n",
       "      <td>삼양문화 진로교육연구원 영화로 떠나는 진로여행 첫 번째_그릿(GRIT)</td>\n",
       "      <td>시청중</td>\n",
       "      <td>2021-12-14T18:33:56.451</td>\n",
       "    </tr>\n",
       "    <tr>\n",
       "      <th>16</th>\n",
       "      <td>learner10</td>\n",
       "      <td>삼양문화 진로교육연구원 영화로 떠나는 진로여행 첫 번째_그릿(GRIT)</td>\n",
       "      <td>시청중</td>\n",
       "      <td>2021-12-14T18:33:57.467</td>\n",
       "    </tr>\n",
       "    <tr>\n",
       "      <th>17</th>\n",
       "      <td>learner10</td>\n",
       "      <td>삼양문화 진로교육연구원 영화로 떠나는 진로여행 첫 번째_그릿(GRIT)</td>\n",
       "      <td>시청중</td>\n",
       "      <td>2021-12-14T18:33:58.471</td>\n",
       "    </tr>\n",
       "    <tr>\n",
       "      <th>18</th>\n",
       "      <td>learner10</td>\n",
       "      <td>삼양문화 진로교육연구원 영화로 떠나는 진로여행 첫 번째_그릿(GRIT)</td>\n",
       "      <td>시청중</td>\n",
       "      <td>2021-12-14T18:33:59.472</td>\n",
       "    </tr>\n",
       "    <tr>\n",
       "      <th>19</th>\n",
       "      <td>learner10</td>\n",
       "      <td>삼양문화 진로교육연구원 영화로 떠나는 진로여행 첫 번째_그릿(GRIT)</td>\n",
       "      <td>중지</td>\n",
       "      <td>2021-12-14T18:33:59.471</td>\n",
       "    </tr>\n",
       "  </tbody>\n",
       "</table>\n",
       "</div>"
      ],
      "text/plain": [
       "        actor                                        object       verb  \\\n",
       "0   learner10       삼양문화 진로교육연구원 영화로 떠나는 진로여행 첫 번째_그릿(GRIT)       시청기록   \n",
       "1   learner10       삼양문화 진로교육연구원 영화로 떠나는 진로여행 첫 번째_그릿(GRIT)        시청중   \n",
       "2   learner10       삼양문화 진로교육연구원 영화로 떠나는 진로여행 첫 번째_그릿(GRIT)         실행   \n",
       "3   learner10       삼양문화 진로교육연구원 영화로 떠나는 진로여행 첫 번째_그릿(GRIT)        시청중   \n",
       "4   learner10       삼양문화 진로교육연구원 영화로 떠나는 진로여행 첫 번째_그릿(GRIT)        시청중   \n",
       "5   learner10       삼양문화 진로교육연구원 영화로 떠나는 진로여행 첫 번째_그릿(GRIT)        시청중   \n",
       "6   learner10                                          none  퀴즈/메시지 등장   \n",
       "7   learner10       삼양문화 진로교육연구원 영화로 떠나는 진로여행 첫 번째_그릿(GRIT)         중지   \n",
       "8   learner10       삼양문화 진로교육연구원 영화로 떠나는 진로여행 첫 번째_그릿(GRIT)        시청중   \n",
       "9   learner10  [1c9902] 성공을 위해서 가장 필요하다고 생각하는 것을 한 가지 고른다면?  퀴즈/메시지 응답   \n",
       "10  learner10       삼양문화 진로교육연구원 영화로 떠나는 진로여행 첫 번째_그릿(GRIT)         실행   \n",
       "11  learner10       삼양문화 진로교육연구원 영화로 떠나는 진로여행 첫 번째_그릿(GRIT)        시청중   \n",
       "12  learner10       삼양문화 진로교육연구원 영화로 떠나는 진로여행 첫 번째_그릿(GRIT)        시청중   \n",
       "13  learner10       삼양문화 진로교육연구원 영화로 떠나는 진로여행 첫 번째_그릿(GRIT)        시청중   \n",
       "14  learner10       삼양문화 진로교육연구원 영화로 떠나는 진로여행 첫 번째_그릿(GRIT)        시청중   \n",
       "15  learner10       삼양문화 진로교육연구원 영화로 떠나는 진로여행 첫 번째_그릿(GRIT)        시청중   \n",
       "16  learner10       삼양문화 진로교육연구원 영화로 떠나는 진로여행 첫 번째_그릿(GRIT)        시청중   \n",
       "17  learner10       삼양문화 진로교육연구원 영화로 떠나는 진로여행 첫 번째_그릿(GRIT)        시청중   \n",
       "18  learner10       삼양문화 진로교육연구원 영화로 떠나는 진로여행 첫 번째_그릿(GRIT)        시청중   \n",
       "19  learner10       삼양문화 진로교육연구원 영화로 떠나는 진로여행 첫 번째_그릿(GRIT)         중지   \n",
       "\n",
       "                  timestamp  \n",
       "0   2021-12-14T18:33:42.326  \n",
       "1   2021-12-14T18:33:43.406  \n",
       "2   2021-12-14T18:33:45.010  \n",
       "3   2021-12-14T18:33:46.410  \n",
       "4   2021-12-14T18:33:47.424  \n",
       "5   2021-12-14T18:33:48.417  \n",
       "6   2021-12-14T18:33:49.432  \n",
       "7   2021-12-14T18:33:49.433  \n",
       "8   2021-12-14T18:33:49.442  \n",
       "9   2021-12-14T18:33:52.300  \n",
       "10  2021-12-14T18:33:52.372  \n",
       "11  2021-12-14T18:33:52.438  \n",
       "12  2021-12-14T18:33:53.444  \n",
       "13  2021-12-14T18:33:54.448  \n",
       "14  2021-12-14T18:33:55.450  \n",
       "15  2021-12-14T18:33:56.451  \n",
       "16  2021-12-14T18:33:57.467  \n",
       "17  2021-12-14T18:33:58.471  \n",
       "18  2021-12-14T18:33:59.472  \n",
       "19  2021-12-14T18:33:59.471  "
      ]
     },
     "execution_count": 7,
     "metadata": {},
     "output_type": "execute_result"
    }
   ],
   "source": [
    "df_data = pd.DataFrame(\n",
    "    {\n",
    "        'actor' : actor_list,\n",
    "        'object' : object_list,\n",
    "        'verb' : verb_list,\n",
    "        'timestamp' : timestamp_list\n",
    "    }\n",
    ")\n",
    "\n",
    "print(df_data.size)\n",
    "\n",
    "df_data.head(20)"
   ]
  },
  {
   "cell_type": "code",
   "execution_count": 8,
   "metadata": {},
   "outputs": [
    {
     "data": {
      "text/plain": [
       "array(['learner10', '6_3_19@g.cnees.kr', 'qwertyuiop', '6_3_5@g.cnees.kr',\n",
       "       'bonhyuk', '6_3_11@g.cnees.kr', '6_3_13@g.cnees.kr',\n",
       "       '6_3_9_2@g.cnees.kr', '정윤석', '6_3_2@g.cnees.kr', 'kfc', '임세현',\n",
       "       '6_3_1@g.cnees.kr', 'g.cnees.kr', 'eunhalim0908',\n",
       "       '6_3_27@g.cnees.kr', '6_3_12@g.cnees.kr', '6_3_6@g.cnees.kr',\n",
       "       '6_3_26@g.cnees.kr', '6_3_17@g.cnees.kr', 'jisu0512', '안성민',\n",
       "       '6_3_18@g.cnees.kr', '6_3_14@g.cnees.kr', '6_3_20@g.cnees.kr',\n",
       "       '6_3_8@g.cnees.kr', 'npe#31'], dtype=object)"
      ]
     },
     "execution_count": 8,
     "metadata": {},
     "output_type": "execute_result"
    }
   ],
   "source": [
    "df_data['actor'].unique()"
   ]
  },
  {
   "cell_type": "code",
   "execution_count": 9,
   "metadata": {},
   "outputs": [
    {
     "data": {
      "text/plain": [
       "array(['삼양문화 진로교육연구원 영화로 떠나는 진로여행 첫 번째_그릿(GRIT)', 'none',\n",
       "       '[1c9902] 성공을 위해서 가장 필요하다고 생각하는 것을 한 가지 고른다면?',\n",
       "       '[1c9902]  IQ, 재능, 환경을 뛰어넘는 열정적 끈기의 힘을 의미하는 단어는 무엇인가요?'],\n",
       "      dtype=object)"
      ]
     },
     "execution_count": 9,
     "metadata": {},
     "output_type": "execute_result"
    }
   ],
   "source": [
    "df_data['object'].unique()\n",
    "\n",
    "#삼양문화 진로교육연구원 영화로 떠나는 진로여행 첫 번째_그릿(GRIT) - 영상\n",
    "#[1c9902] 성공을 위해서 가장 필요하다고 생각하는 것을 한 가지 고른다면? - 퀴즈(앞)\n",
    "#[1c9902]  IQ, 재능, 환경을 뛰어넘는 열정적 끈기의 힘을 의미하는 단어는 무엇인가요?'] - 퀴즈(뒤)\n",
    "#none - 결측치"
   ]
  },
  {
   "cell_type": "code",
   "execution_count": 10,
   "metadata": {},
   "outputs": [
    {
     "data": {
      "text/plain": [
       "array(['시청기록', '시청중', '실행', '퀴즈/메시지 등장', '중지', '퀴즈/메시지 응답', '재생바 클릭',\n",
       "       '강의 평가 등장', '강의 평가 제출'], dtype=object)"
      ]
     },
     "execution_count": 10,
     "metadata": {},
     "output_type": "execute_result"
    }
   ],
   "source": [
    "df_data['verb'].unique()"
   ]
  },
  {
   "cell_type": "code",
   "execution_count": 11,
   "metadata": {},
   "outputs": [
    {
     "data": {
      "text/plain": [
       "actor        0\n",
       "object       0\n",
       "verb         0\n",
       "timestamp    0\n",
       "dtype: int64"
      ]
     },
     "execution_count": 11,
     "metadata": {},
     "output_type": "execute_result"
    }
   ],
   "source": [
    "#결측 확인\n",
    "df_data.isnull().sum()"
   ]
  },
  {
   "cell_type": "code",
   "execution_count": 12,
   "metadata": {},
   "outputs": [
    {
     "data": {
      "text/plain": [
       "array(['6_3_19@g.cnees.kr', 'qwertyuiop', '6_3_5@g.cnees.kr', 'bonhyuk',\n",
       "       '6_3_11@g.cnees.kr', '6_3_13@g.cnees.kr', '6_3_9_2@g.cnees.kr',\n",
       "       '정윤석', '6_3_2@g.cnees.kr', 'kfc', '임세현', '6_3_1@g.cnees.kr',\n",
       "       'g.cnees.kr', 'eunhalim0908', '6_3_27@g.cnees.kr',\n",
       "       '6_3_12@g.cnees.kr', '6_3_6@g.cnees.kr', '6_3_26@g.cnees.kr',\n",
       "       '6_3_17@g.cnees.kr', 'jisu0512', '안성민', '6_3_18@g.cnees.kr',\n",
       "       '6_3_14@g.cnees.kr', '6_3_20@g.cnees.kr', '6_3_8@g.cnees.kr',\n",
       "       'npe#31'], dtype=object)"
      ]
     },
     "execution_count": 12,
     "metadata": {},
     "output_type": "execute_result"
    }
   ],
   "source": [
    "#actor 중 learner10 행 삭제(실제 학생 아님)\n",
    "\n",
    "del_index_actor = df_data[df_data['actor'] == \"learner10\"].index\n",
    "df_data_clean = df_data.drop(del_index_actor)\n",
    "\n",
    "df_data_clean['actor'].unique()"
   ]
  },
  {
   "cell_type": "markdown",
   "metadata": {},
   "source": [
    "## 1. 활동량 분석"
   ]
  },
  {
   "cell_type": "code",
   "execution_count": 13,
   "metadata": {},
   "outputs": [
    {
     "name": "stdout",
     "output_type": "stream",
     "text": [
      "{'6_3_19@g.cnees.kr': 1231, 'qwertyuiop': 1831, '6_3_5@g.cnees.kr': 1476, 'bonhyuk': 1485, '6_3_11@g.cnees.kr': 1230, '6_3_13@g.cnees.kr': 1303, '6_3_9_2@g.cnees.kr': 727, '정윤석': 1240, '6_3_2@g.cnees.kr': 1614, 'kfc': 1382, '임세현': 1247, '6_3_1@g.cnees.kr': 1225, 'g.cnees.kr': 1116, 'eunhalim0908': 971, '6_3_27@g.cnees.kr': 1273, '6_3_12@g.cnees.kr': 1204, '6_3_6@g.cnees.kr': 1052, '6_3_26@g.cnees.kr': 159, '6_3_17@g.cnees.kr': 1253, 'jisu0512': 654, '안성민': 1010, '6_3_18@g.cnees.kr': 97, '6_3_14@g.cnees.kr': 704, '6_3_20@g.cnees.kr': 634, '6_3_8@g.cnees.kr': 1264, 'npe#31': 1359}\n"
     ]
    }
   ],
   "source": [
    "#활동량 분석\n",
    "#각각의 학생별로 총 로그 수를 계산\n",
    "\n",
    "student_total_logs = {}\n",
    "\n",
    "for student in df_data_clean['actor'].unique():\n",
    "    student_total_logs[student] = len(df_data[df_data['actor'] == student])\n",
    "\n",
    "print(student_total_logs)"
   ]
  },
  {
   "cell_type": "code",
   "execution_count": 14,
   "metadata": {},
   "outputs": [
    {
     "name": "stdout",
     "output_type": "stream",
     "text": [
      "[('qwertyuiop', 1831), ('6_3_2@g.cnees.kr', 1614), ('bonhyuk', 1485), ('6_3_5@g.cnees.kr', 1476), ('kfc', 1382), ('npe#31', 1359), ('6_3_13@g.cnees.kr', 1303), ('6_3_27@g.cnees.kr', 1273), ('6_3_8@g.cnees.kr', 1264), ('6_3_17@g.cnees.kr', 1253), ('임세현', 1247), ('정윤석', 1240), ('6_3_19@g.cnees.kr', 1231), ('6_3_11@g.cnees.kr', 1230), ('6_3_1@g.cnees.kr', 1225), ('6_3_12@g.cnees.kr', 1204), ('g.cnees.kr', 1116), ('6_3_6@g.cnees.kr', 1052), ('안성민', 1010), ('eunhalim0908', 971), ('6_3_9_2@g.cnees.kr', 727), ('6_3_14@g.cnees.kr', 704), ('jisu0512', 654), ('6_3_20@g.cnees.kr', 634), ('6_3_26@g.cnees.kr', 159), ('6_3_18@g.cnees.kr', 97)]\n"
     ]
    }
   ],
   "source": [
    "print(sorted(student_total_logs.items(), key = lambda x: x[1], reverse = True))"
   ]
  },
  {
   "cell_type": "code",
   "execution_count": 21,
   "metadata": {},
   "outputs": [
    {
     "name": "stdout",
     "output_type": "stream",
     "text": [
      "['qwertyuiop', '6_3_2@g.cnees.kr', 'bonhyuk', '6_3_5@g.cnees.kr', 'kfc', 'npe#31', '6_3_13@g.cnees.kr', '6_3_27@g.cnees.kr', '6_3_8@g.cnees.kr', '6_3_17@g.cnees.kr', '임세현', '정윤석', '6_3_19@g.cnees.kr', '6_3_11@g.cnees.kr', '6_3_1@g.cnees.kr', '6_3_12@g.cnees.kr', 'g.cnees.kr', '6_3_6@g.cnees.kr', '안성민', 'eunhalim0908', '6_3_9_2@g.cnees.kr', '6_3_14@g.cnees.kr', 'jisu0512', '6_3_20@g.cnees.kr', '6_3_26@g.cnees.kr', '6_3_18@g.cnees.kr']\n",
      "[1831, 1614, 1485, 1476, 1382, 1359, 1303, 1273, 1264, 1253, 1247, 1240, 1231, 1230, 1225, 1204, 1116, 1052, 1010, 971, 727, 704, 654, 634, 159, 97]\n"
     ]
    }
   ],
   "source": [
    "student_total_logs_sorted = sorted(student_total_logs.items(), key = lambda x: x[1], reverse = True)\n",
    "\n",
    "students = []\n",
    "total_logs = []\n",
    "\n",
    "for stu, log in student_total_logs_sorted:\n",
    "    students.append(stu)\n",
    "    total_logs.append(log)\n",
    "\n",
    "print(students)\n",
    "print(total_logs)"
   ]
  },
  {
   "cell_type": "code",
   "execution_count": 22,
   "metadata": {},
   "outputs": [
    {
     "name": "stderr",
     "output_type": "stream",
     "text": [
      "/usr/local/lib/python3.6/dist-packages/matplotlib/backends/backend_agg.py:238: RuntimeWarning: Glyph 51076 missing from current font.\n",
      "  font.set_text(s, 0.0, flags=flags)\n",
      "/usr/local/lib/python3.6/dist-packages/matplotlib/backends/backend_agg.py:238: RuntimeWarning: Glyph 49464 missing from current font.\n",
      "  font.set_text(s, 0.0, flags=flags)\n",
      "/usr/local/lib/python3.6/dist-packages/matplotlib/backends/backend_agg.py:238: RuntimeWarning: Glyph 54788 missing from current font.\n",
      "  font.set_text(s, 0.0, flags=flags)\n",
      "/usr/local/lib/python3.6/dist-packages/matplotlib/backends/backend_agg.py:238: RuntimeWarning: Glyph 51221 missing from current font.\n",
      "  font.set_text(s, 0.0, flags=flags)\n",
      "/usr/local/lib/python3.6/dist-packages/matplotlib/backends/backend_agg.py:238: RuntimeWarning: Glyph 50980 missing from current font.\n",
      "  font.set_text(s, 0.0, flags=flags)\n",
      "/usr/local/lib/python3.6/dist-packages/matplotlib/backends/backend_agg.py:238: RuntimeWarning: Glyph 49437 missing from current font.\n",
      "  font.set_text(s, 0.0, flags=flags)\n",
      "/usr/local/lib/python3.6/dist-packages/matplotlib/backends/backend_agg.py:238: RuntimeWarning: Glyph 50504 missing from current font.\n",
      "  font.set_text(s, 0.0, flags=flags)\n",
      "/usr/local/lib/python3.6/dist-packages/matplotlib/backends/backend_agg.py:238: RuntimeWarning: Glyph 49457 missing from current font.\n",
      "  font.set_text(s, 0.0, flags=flags)\n",
      "/usr/local/lib/python3.6/dist-packages/matplotlib/backends/backend_agg.py:238: RuntimeWarning: Glyph 48124 missing from current font.\n",
      "  font.set_text(s, 0.0, flags=flags)\n",
      "/usr/local/lib/python3.6/dist-packages/matplotlib/backends/backend_agg.py:201: RuntimeWarning: Glyph 51076 missing from current font.\n",
      "  font.set_text(s, 0, flags=flags)\n",
      "/usr/local/lib/python3.6/dist-packages/matplotlib/backends/backend_agg.py:201: RuntimeWarning: Glyph 49464 missing from current font.\n",
      "  font.set_text(s, 0, flags=flags)\n",
      "/usr/local/lib/python3.6/dist-packages/matplotlib/backends/backend_agg.py:201: RuntimeWarning: Glyph 54788 missing from current font.\n",
      "  font.set_text(s, 0, flags=flags)\n",
      "/usr/local/lib/python3.6/dist-packages/matplotlib/backends/backend_agg.py:201: RuntimeWarning: Glyph 51221 missing from current font.\n",
      "  font.set_text(s, 0, flags=flags)\n",
      "/usr/local/lib/python3.6/dist-packages/matplotlib/backends/backend_agg.py:201: RuntimeWarning: Glyph 50980 missing from current font.\n",
      "  font.set_text(s, 0, flags=flags)\n",
      "/usr/local/lib/python3.6/dist-packages/matplotlib/backends/backend_agg.py:201: RuntimeWarning: Glyph 49437 missing from current font.\n",
      "  font.set_text(s, 0, flags=flags)\n",
      "/usr/local/lib/python3.6/dist-packages/matplotlib/backends/backend_agg.py:201: RuntimeWarning: Glyph 50504 missing from current font.\n",
      "  font.set_text(s, 0, flags=flags)\n",
      "/usr/local/lib/python3.6/dist-packages/matplotlib/backends/backend_agg.py:201: RuntimeWarning: Glyph 49457 missing from current font.\n",
      "  font.set_text(s, 0, flags=flags)\n",
      "/usr/local/lib/python3.6/dist-packages/matplotlib/backends/backend_agg.py:201: RuntimeWarning: Glyph 48124 missing from current font.\n",
      "  font.set_text(s, 0, flags=flags)\n"
     ]
    },
    {
     "data": {
      "image/png": "[encoded data removed]",
      "text/plain": [
       "<Figure size 1440x720 with 1 Axes>"
      ]
     },
     "metadata": {
      "needs_background": "light"
     },
     "output_type": "display_data"
    }
   ],
   "source": [
    "plt.figure(figsize = (20, 10))\n",
    "plt.bar(students, total_logs)\n",
    "plt.show()"
   ]
  },
  {
   "cell_type": "markdown",
   "metadata": {},
   "source": [
    "## 2. 시청 시간 분석"
   ]
  },
  {
   "cell_type": "code",
   "execution_count": 29,
   "metadata": {},
   "outputs": [
    {
     "name": "stdout",
     "output_type": "stream",
     "text": [
      "{'시청기록': 39, '시청중': 27142, '실행': 315, '중지': 508, '퀴즈/메시지 등장': 64, '퀴즈/메시지 응답': 62, '재생바 클릭': 11, '강의 평가 등장': 400, '강의 평가 제출': 226}\n"
     ]
    }
   ],
   "source": [
    "df_data_clean['verb'].unique()\n",
    "\n",
    "verb_counts = {}\n",
    "\n",
    "for v in df_data_clean['verb'].unique():\n",
    "    verb_counts[v] = len(df_data[df_data['verb'] == v])\n",
    "\n",
    "print(verb_counts)"
   ]
  },
  {
   "cell_type": "code",
   "execution_count": null,
   "metadata": {},
   "outputs": [],
   "source": []
  }
 ],
 "metadata": {
  "interpreter": {
   "hash": "31f2aee4e71d21fbe5cf8b01ff0e069b9275f58929596ceb00d14d90e3e16cd6"
  },
  "kernelspec": {
   "display_name": "Python 3.6.9 64-bit",
   "language": "python",
   "name": "python3"
  },
  "language_info": {
   "codemirror_mode": {
    "name": "ipython",
    "version": 3
   },
   "file_extension": ".py",
   "mimetype": "text/x-python",
   "name": "python",
   "nbconvert_exporter": "python",
   "pygments_lexer": "ipython3",
   "version": "3.6.9"
  },
  "orig_nbformat": 4
 },
 "nbformat": 4,
 "nbformat_minor": 2
}
