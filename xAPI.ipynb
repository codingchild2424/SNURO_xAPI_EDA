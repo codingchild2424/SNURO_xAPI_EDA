{
 "cells": [
  {
   "cell_type": "markdown",
   "metadata": {},
   "source": [
    "# Intro\n",
    "이 주피터 노트북은 xAPI 형태의 데이터를 탐색적으로 분석하는데 그 목적이 있음"
   ]
  },
  {
   "cell_type": "code",
   "execution_count": 1,
   "metadata": {},
   "outputs": [],
   "source": [
    "#Package\n",
    "\n",
    "import pandas as pd\n",
    "import numpy as np\n",
    "import json\n",
    "import matplotlib.pyplot as plt"
   ]
  },
  {
   "cell_type": "markdown",
   "metadata": {},
   "source": [
    "# JSON Parsing"
   ]
  },
  {
   "cell_type": "code",
   "execution_count": 2,
   "metadata": {},
   "outputs": [],
   "source": [
    "#데이터 업로드\n",
    "\n",
    "with open(\"data/XAPI_npe_1215.json\", \"r\", encoding=\"utf8\") as f:\n",
    "    contents = f.read() #String type\n",
    "    json_data = json.loads(contents)"
   ]
  },
  {
   "cell_type": "code",
   "execution_count": 3,
   "metadata": {},
   "outputs": [
    {
     "name": "stdout",
     "output_type": "stream",
     "text": [
      "첫번째 xAPI:  {'actor': {'mbox': 'mailto:learner10@gmail.com', 'name': 'learner10', 'objectType': 'Agent'}, 'id': '5d93125a-3428-3cd6-b4e1-290a7c46d98e', 'object': {'definition': {'name': {'en-US': '삼양문화 진로교육연구원 영화로 떠나는 진로여행 첫 번째_그릿(GRIT)', 'ko-KR': '삼양문화 진로교육연구원 영화로 떠나는 진로여행 첫 번째_그릿(GRIT)'}}, 'id': 'http://127.0.0.1:3000/learner/video/1c9902', 'objectType': 'Activity'}, 'stored': '2021-12-14T18:33:42.326', 'timestamp': '2021-12-14T18:33:42.326', 'verb': {'display': {'en-US': 'view', 'ko-KR': '시청기록'}, 'id': 'http://adlnet.gov/expapi/verbs/view'}}\n",
      "첫번째 xAPI의 Actor의 value:  {'mbox': 'mailto:learner10@gmail.com', 'name': 'learner10', 'objectType': 'Agent'}\n"
     ]
    }
   ],
   "source": [
    "#json_data의 타입은 list임\n",
    "#그 안에 xAPI 데이터를 dict형태로 보관하고 있음\n",
    "#따라서 조회하기 위해서는 리스트 데이터 indexing을 통해 각각의 데이터에 접근하고\n",
    "#이후 딕셔너리를 조작하는 방식으로 작업해야 함\n",
    "print(\"첫번째 xAPI: \", json_data[0])\n",
    "print(\"첫번째 xAPI의 Actor의 value: \", json_data[0]['actor'])"
   ]
  },
  {
   "cell_type": "markdown",
   "metadata": {},
   "source": [
    "### Parsing할 데이터의 목록\n",
    "1. actor(name)\n",
    "2. object - definition - name - ko-KR\n",
    "3. timestamp\n",
    "4. verb, display - ko-KR"
   ]
  },
  {
   "cell_type": "code",
   "execution_count": 4,
   "metadata": {},
   "outputs": [],
   "source": [
    "#데이터를 받을 리스트 준비\n",
    "\n",
    "#actor에서 name만 추출\n",
    "actor_list = []\n",
    "#object에서 definition - name - ko-KR에 있는 데이터만 담기\n",
    "object_list = []\n",
    "#verb에서 display - ko-KR만 추출\n",
    "verb_list = []\n",
    "#timestamp\n",
    "timestamp_list = []"
   ]
  },
  {
   "cell_type": "code",
   "execution_count": 5,
   "metadata": {},
   "outputs": [
    {
     "name": "stdout",
     "output_type": "stream",
     "text": [
      "삼양문화 진로교육연구원 영화로 떠나는 진로여행 첫 번째_그릿(GRIT)\n",
      "True\n",
      "{'actor': {'mbox': 'mailto:learner10@gmail.com', 'name': 'learner10', 'objectType': 'Agent'}, 'id': '88a312df-60bd-30c0-a0ca-9afd862fa0c4', 'object': {}, 'stored': '2021-12-14T18:33:49.432', 'timestamp': '2021-12-14T18:33:49.432', 'verb': {'display': {'en-US': 'quiz_show', 'ko-KR': '퀴즈/메시지 등장'}, 'id': 'http://adlnet.gov/expapi/verbs/quiz_show'}}\n",
      "True\n"
     ]
    }
   ],
   "source": [
    "#6번에 object 없음\n",
    "print(json_data[5]['object']['definition']['name']['ko-KR'])\n",
    "\n",
    "print(json_data[6]['object'] == {})\n",
    "\n",
    "print(json_data[6])\n",
    "\n",
    "print(True or False)"
   ]
  },
  {
   "cell_type": "code",
   "execution_count": 6,
   "metadata": {},
   "outputs": [],
   "source": [
    "for i, xapi in enumerate(json_data):\n",
    "\n",
    "    #object에 있는 결측치를 대체함\n",
    "    if xapi['object'] == {}:\n",
    "        json_data[i]['object'] = {'definition': {'name': {'ko-KR': 'none'}}}\n",
    "    \n",
    "    actor_var = xapi['actor']['name']\n",
    "    object_var = xapi['object']['definition']['name']['ko-KR']\n",
    "    verb_var = xapi['verb']['display']['ko-KR']\n",
    "    timestamp_var = xapi['timestamp']\n",
    "\n",
    "    actor_list.append(actor_var)\n",
    "    object_list.append(object_var)\n",
    "    verb_list.append(verb_var)\n",
    "    timestamp_list.append(timestamp_var)\n",
    "\n",
    "# print(actor_list)\n",
    "# print(object_list)\n",
    "# print(verb_list)\n",
    "# print(timestamp_list)"
   ]
  },
  {
   "cell_type": "markdown",
   "metadata": {},
   "source": [
    "# Pandas EDM"
   ]
  },
  {
   "cell_type": "code",
   "execution_count": 7,
   "metadata": {},
   "outputs": [
    {
     "name": "stdout",
     "output_type": "stream",
     "text": [
      "115068\n"
     ]
    },
    {
     "data": {
      "text/html": [
       "<div>\n",
       "<style scoped>\n",
       "    .dataframe tbody tr th:only-of-type {\n",
       "        vertical-align: middle;\n",
       "    }\n",
       "\n",
       "    .dataframe tbody tr th {\n",
       "        vertical-align: top;\n",
       "    }\n",
       "\n",
       "    .dataframe thead th {\n",
       "        text-align: right;\n",
       "    }\n",
       "</style>\n",
       "<table border=\"1\" class=\"dataframe\">\n",
       "  <thead>\n",
       "    <tr style=\"text-align: right;\">\n",
       "      <th></th>\n",
       "      <th>actor</th>\n",
       "      <th>object</th>\n",
       "      <th>verb</th>\n",
       "      <th>timestamp</th>\n",
       "    </tr>\n",
       "  </thead>\n",
       "  <tbody>\n",
       "    <tr>\n",
       "      <th>0</th>\n",
       "      <td>learner10</td>\n",
       "      <td>삼양문화 진로교육연구원 영화로 떠나는 진로여행 첫 번째_그릿(GRIT)</td>\n",
       "      <td>시청기록</td>\n",
       "      <td>2021-12-14T18:33:42.326</td>\n",
       "    </tr>\n",
       "    <tr>\n",
       "      <th>1</th>\n",
       "      <td>learner10</td>\n",
       "      <td>삼양문화 진로교육연구원 영화로 떠나는 진로여행 첫 번째_그릿(GRIT)</td>\n",
       "      <td>시청중</td>\n",
       "      <td>2021-12-14T18:33:43.406</td>\n",
       "    </tr>\n",
       "    <tr>\n",
       "      <th>2</th>\n",
       "      <td>learner10</td>\n",
       "      <td>삼양문화 진로교육연구원 영화로 떠나는 진로여행 첫 번째_그릿(GRIT)</td>\n",
       "      <td>실행</td>\n",
       "      <td>2021-12-14T18:33:45.010</td>\n",
       "    </tr>\n",
       "    <tr>\n",
       "      <th>3</th>\n",
       "      <td>learner10</td>\n",
       "      <td>삼양문화 진로교육연구원 영화로 떠나는 진로여행 첫 번째_그릿(GRIT)</td>\n",
       "      <td>시청중</td>\n",
       "      <td>2021-12-14T18:33:46.410</td>\n",
       "    </tr>\n",
       "    <tr>\n",
       "      <th>4</th>\n",
       "      <td>learner10</td>\n",
       "      <td>삼양문화 진로교육연구원 영화로 떠나는 진로여행 첫 번째_그릿(GRIT)</td>\n",
       "      <td>시청중</td>\n",
       "      <td>2021-12-14T18:33:47.424</td>\n",
       "    </tr>\n",
       "    <tr>\n",
       "      <th>5</th>\n",
       "      <td>learner10</td>\n",
       "      <td>삼양문화 진로교육연구원 영화로 떠나는 진로여행 첫 번째_그릿(GRIT)</td>\n",
       "      <td>시청중</td>\n",
       "      <td>2021-12-14T18:33:48.417</td>\n",
       "    </tr>\n",
       "    <tr>\n",
       "      <th>6</th>\n",
       "      <td>learner10</td>\n",
       "      <td>none</td>\n",
       "      <td>퀴즈/메시지 등장</td>\n",
       "      <td>2021-12-14T18:33:49.432</td>\n",
       "    </tr>\n",
       "    <tr>\n",
       "      <th>7</th>\n",
       "      <td>learner10</td>\n",
       "      <td>삼양문화 진로교육연구원 영화로 떠나는 진로여행 첫 번째_그릿(GRIT)</td>\n",
       "      <td>중지</td>\n",
       "      <td>2021-12-14T18:33:49.433</td>\n",
       "    </tr>\n",
       "    <tr>\n",
       "      <th>8</th>\n",
       "      <td>learner10</td>\n",
       "      <td>삼양문화 진로교육연구원 영화로 떠나는 진로여행 첫 번째_그릿(GRIT)</td>\n",
       "      <td>시청중</td>\n",
       "      <td>2021-12-14T18:33:49.442</td>\n",
       "    </tr>\n",
       "    <tr>\n",
       "      <th>9</th>\n",
       "      <td>learner10</td>\n",
       "      <td>[1c9902] 성공을 위해서 가장 필요하다고 생각하는 것을 한 가지 고른다면?</td>\n",
       "      <td>퀴즈/메시지 응답</td>\n",
       "      <td>2021-12-14T18:33:52.300</td>\n",
       "    </tr>\n",
       "    <tr>\n",
       "      <th>10</th>\n",
       "      <td>learner10</td>\n",
       "      <td>삼양문화 진로교육연구원 영화로 떠나는 진로여행 첫 번째_그릿(GRIT)</td>\n",
       "      <td>실행</td>\n",
       "      <td>2021-12-14T18:33:52.372</td>\n",
       "    </tr>\n",
       "    <tr>\n",
       "      <th>11</th>\n",
       "      <td>learner10</td>\n",
       "      <td>삼양문화 진로교육연구원 영화로 떠나는 진로여행 첫 번째_그릿(GRIT)</td>\n",
       "      <td>시청중</td>\n",
       "      <td>2021-12-14T18:33:52.438</td>\n",
       "    </tr>\n",
       "    <tr>\n",
       "      <th>12</th>\n",
       "      <td>learner10</td>\n",
       "      <td>삼양문화 진로교육연구원 영화로 떠나는 진로여행 첫 번째_그릿(GRIT)</td>\n",
       "      <td>시청중</td>\n",
       "      <td>2021-12-14T18:33:53.444</td>\n",
       "    </tr>\n",
       "    <tr>\n",
       "      <th>13</th>\n",
       "      <td>learner10</td>\n",
       "      <td>삼양문화 진로교육연구원 영화로 떠나는 진로여행 첫 번째_그릿(GRIT)</td>\n",
       "      <td>시청중</td>\n",
       "      <td>2021-12-14T18:33:54.448</td>\n",
       "    </tr>\n",
       "    <tr>\n",
       "      <th>14</th>\n",
       "      <td>learner10</td>\n",
       "      <td>삼양문화 진로교육연구원 영화로 떠나는 진로여행 첫 번째_그릿(GRIT)</td>\n",
       "      <td>시청중</td>\n",
       "      <td>2021-12-14T18:33:55.450</td>\n",
       "    </tr>\n",
       "    <tr>\n",
       "      <th>15</th>\n",
       "      <td>learner10</td>\n",
       "      <td>삼양문화 진로교육연구원 영화로 떠나는 진로여행 첫 번째_그릿(GRIT)</td>\n",
       "      <td>시청중</td>\n",
       "      <td>2021-12-14T18:33:56.451</td>\n",
       "    </tr>\n",
       "    <tr>\n",
       "      <th>16</th>\n",
       "      <td>learner10</td>\n",
       "      <td>삼양문화 진로교육연구원 영화로 떠나는 진로여행 첫 번째_그릿(GRIT)</td>\n",
       "      <td>시청중</td>\n",
       "      <td>2021-12-14T18:33:57.467</td>\n",
       "    </tr>\n",
       "    <tr>\n",
       "      <th>17</th>\n",
       "      <td>learner10</td>\n",
       "      <td>삼양문화 진로교육연구원 영화로 떠나는 진로여행 첫 번째_그릿(GRIT)</td>\n",
       "      <td>시청중</td>\n",
       "      <td>2021-12-14T18:33:58.471</td>\n",
       "    </tr>\n",
       "    <tr>\n",
       "      <th>18</th>\n",
       "      <td>learner10</td>\n",
       "      <td>삼양문화 진로교육연구원 영화로 떠나는 진로여행 첫 번째_그릿(GRIT)</td>\n",
       "      <td>시청중</td>\n",
       "      <td>2021-12-14T18:33:59.472</td>\n",
       "    </tr>\n",
       "    <tr>\n",
       "      <th>19</th>\n",
       "      <td>learner10</td>\n",
       "      <td>삼양문화 진로교육연구원 영화로 떠나는 진로여행 첫 번째_그릿(GRIT)</td>\n",
       "      <td>중지</td>\n",
       "      <td>2021-12-14T18:33:59.471</td>\n",
       "    </tr>\n",
       "  </tbody>\n",
       "</table>\n",
       "</div>"
      ],
      "text/plain": [
       "        actor                                        object       verb  \\\n",
       "0   learner10       삼양문화 진로교육연구원 영화로 떠나는 진로여행 첫 번째_그릿(GRIT)       시청기록   \n",
       "1   learner10       삼양문화 진로교육연구원 영화로 떠나는 진로여행 첫 번째_그릿(GRIT)        시청중   \n",
       "2   learner10       삼양문화 진로교육연구원 영화로 떠나는 진로여행 첫 번째_그릿(GRIT)         실행   \n",
       "3   learner10       삼양문화 진로교육연구원 영화로 떠나는 진로여행 첫 번째_그릿(GRIT)        시청중   \n",
       "4   learner10       삼양문화 진로교육연구원 영화로 떠나는 진로여행 첫 번째_그릿(GRIT)        시청중   \n",
       "5   learner10       삼양문화 진로교육연구원 영화로 떠나는 진로여행 첫 번째_그릿(GRIT)        시청중   \n",
       "6   learner10                                          none  퀴즈/메시지 등장   \n",
       "7   learner10       삼양문화 진로교육연구원 영화로 떠나는 진로여행 첫 번째_그릿(GRIT)         중지   \n",
       "8   learner10       삼양문화 진로교육연구원 영화로 떠나는 진로여행 첫 번째_그릿(GRIT)        시청중   \n",
       "9   learner10  [1c9902] 성공을 위해서 가장 필요하다고 생각하는 것을 한 가지 고른다면?  퀴즈/메시지 응답   \n",
       "10  learner10       삼양문화 진로교육연구원 영화로 떠나는 진로여행 첫 번째_그릿(GRIT)         실행   \n",
       "11  learner10       삼양문화 진로교육연구원 영화로 떠나는 진로여행 첫 번째_그릿(GRIT)        시청중   \n",
       "12  learner10       삼양문화 진로교육연구원 영화로 떠나는 진로여행 첫 번째_그릿(GRIT)        시청중   \n",
       "13  learner10       삼양문화 진로교육연구원 영화로 떠나는 진로여행 첫 번째_그릿(GRIT)        시청중   \n",
       "14  learner10       삼양문화 진로교육연구원 영화로 떠나는 진로여행 첫 번째_그릿(GRIT)        시청중   \n",
       "15  learner10       삼양문화 진로교육연구원 영화로 떠나는 진로여행 첫 번째_그릿(GRIT)        시청중   \n",
       "16  learner10       삼양문화 진로교육연구원 영화로 떠나는 진로여행 첫 번째_그릿(GRIT)        시청중   \n",
       "17  learner10       삼양문화 진로교육연구원 영화로 떠나는 진로여행 첫 번째_그릿(GRIT)        시청중   \n",
       "18  learner10       삼양문화 진로교육연구원 영화로 떠나는 진로여행 첫 번째_그릿(GRIT)        시청중   \n",
       "19  learner10       삼양문화 진로교육연구원 영화로 떠나는 진로여행 첫 번째_그릿(GRIT)         중지   \n",
       "\n",
       "                  timestamp  \n",
       "0   2021-12-14T18:33:42.326  \n",
       "1   2021-12-14T18:33:43.406  \n",
       "2   2021-12-14T18:33:45.010  \n",
       "3   2021-12-14T18:33:46.410  \n",
       "4   2021-12-14T18:33:47.424  \n",
       "5   2021-12-14T18:33:48.417  \n",
       "6   2021-12-14T18:33:49.432  \n",
       "7   2021-12-14T18:33:49.433  \n",
       "8   2021-12-14T18:33:49.442  \n",
       "9   2021-12-14T18:33:52.300  \n",
       "10  2021-12-14T18:33:52.372  \n",
       "11  2021-12-14T18:33:52.438  \n",
       "12  2021-12-14T18:33:53.444  \n",
       "13  2021-12-14T18:33:54.448  \n",
       "14  2021-12-14T18:33:55.450  \n",
       "15  2021-12-14T18:33:56.451  \n",
       "16  2021-12-14T18:33:57.467  \n",
       "17  2021-12-14T18:33:58.471  \n",
       "18  2021-12-14T18:33:59.472  \n",
       "19  2021-12-14T18:33:59.471  "
      ]
     },
     "execution_count": 7,
     "metadata": {},
     "output_type": "execute_result"
    }
   ],
   "source": [
    "df_data = pd.DataFrame(\n",
    "    {\n",
    "        'actor' : actor_list,\n",
    "        'object' : object_list,\n",
    "        'verb' : verb_list,\n",
    "        'timestamp' : timestamp_list\n",
    "    }\n",
    ")\n",
    "\n",
    "print(df_data.size)\n",
    "\n",
    "df_data.head(20)"
   ]
  },
  {
   "cell_type": "code",
   "execution_count": 8,
   "metadata": {},
   "outputs": [
    {
     "data": {
      "text/plain": [
       "array(['learner10', '6_3_19@g.cnees.kr', 'qwertyuiop', '6_3_5@g.cnees.kr',\n",
       "       'bonhyuk', '6_3_11@g.cnees.kr', '6_3_13@g.cnees.kr',\n",
       "       '6_3_9_2@g.cnees.kr', '정윤석', '6_3_2@g.cnees.kr', 'kfc', '임세현',\n",
       "       '6_3_1@g.cnees.kr', 'g.cnees.kr', 'eunhalim0908',\n",
       "       '6_3_27@g.cnees.kr', '6_3_12@g.cnees.kr', '6_3_6@g.cnees.kr',\n",
       "       '6_3_26@g.cnees.kr', '6_3_17@g.cnees.kr', 'jisu0512', '안성민',\n",
       "       '6_3_18@g.cnees.kr', '6_3_14@g.cnees.kr', '6_3_20@g.cnees.kr',\n",
       "       '6_3_8@g.cnees.kr', 'npe#31'], dtype=object)"
      ]
     },
     "execution_count": 8,
     "metadata": {},
     "output_type": "execute_result"
    }
   ],
   "source": [
    "df_data['actor'].unique()"
   ]
  },
  {
   "cell_type": "code",
   "execution_count": 9,
   "metadata": {},
   "outputs": [
    {
     "data": {
      "text/plain": [
       "array(['삼양문화 진로교육연구원 영화로 떠나는 진로여행 첫 번째_그릿(GRIT)', 'none',\n",
       "       '[1c9902] 성공을 위해서 가장 필요하다고 생각하는 것을 한 가지 고른다면?',\n",
       "       '[1c9902]  IQ, 재능, 환경을 뛰어넘는 열정적 끈기의 힘을 의미하는 단어는 무엇인가요?'],\n",
       "      dtype=object)"
      ]
     },
     "execution_count": 9,
     "metadata": {},
     "output_type": "execute_result"
    }
   ],
   "source": [
    "df_data['object'].unique()\n",
    "\n",
    "#삼양문화 진로교육연구원 영화로 떠나는 진로여행 첫 번째_그릿(GRIT) - 영상\n",
    "#[1c9902] 성공을 위해서 가장 필요하다고 생각하는 것을 한 가지 고른다면? - 퀴즈(앞)\n",
    "#[1c9902]  IQ, 재능, 환경을 뛰어넘는 열정적 끈기의 힘을 의미하는 단어는 무엇인가요?'] - 퀴즈(뒤)\n",
    "#none - 결측치"
   ]
  },
  {
   "cell_type": "code",
   "execution_count": 10,
   "metadata": {},
   "outputs": [
    {
     "data": {
      "text/plain": [
       "array(['시청기록', '시청중', '실행', '퀴즈/메시지 등장', '중지', '퀴즈/메시지 응답', '재생바 클릭',\n",
       "       '강의 평가 등장', '강의 평가 제출'], dtype=object)"
      ]
     },
     "execution_count": 10,
     "metadata": {},
     "output_type": "execute_result"
    }
   ],
   "source": [
    "df_data['verb'].unique()"
   ]
  },
  {
   "cell_type": "code",
   "execution_count": 11,
   "metadata": {},
   "outputs": [
    {
     "data": {
      "text/plain": [
       "actor        0\n",
       "object       0\n",
       "verb         0\n",
       "timestamp    0\n",
       "dtype: int64"
      ]
     },
     "execution_count": 11,
     "metadata": {},
     "output_type": "execute_result"
    }
   ],
   "source": [
    "#결측 확인\n",
    "df_data.isnull().sum()"
   ]
  },
  {
   "cell_type": "code",
   "execution_count": 12,
   "metadata": {},
   "outputs": [
    {
     "data": {
      "text/plain": [
       "array(['6_3_19@g.cnees.kr', 'qwertyuiop', '6_3_5@g.cnees.kr', 'bonhyuk',\n",
       "       '6_3_11@g.cnees.kr', '6_3_13@g.cnees.kr', '6_3_9_2@g.cnees.kr',\n",
       "       '정윤석', '6_3_2@g.cnees.kr', 'kfc', '임세현', '6_3_1@g.cnees.kr',\n",
       "       'g.cnees.kr', 'eunhalim0908', '6_3_27@g.cnees.kr',\n",
       "       '6_3_12@g.cnees.kr', '6_3_6@g.cnees.kr', '6_3_26@g.cnees.kr',\n",
       "       '6_3_17@g.cnees.kr', 'jisu0512', '안성민', '6_3_18@g.cnees.kr',\n",
       "       '6_3_14@g.cnees.kr', '6_3_20@g.cnees.kr', '6_3_8@g.cnees.kr',\n",
       "       'npe#31'], dtype=object)"
      ]
     },
     "execution_count": 12,
     "metadata": {},
     "output_type": "execute_result"
    }
   ],
   "source": [
    "#actor 중 learner10 행 삭제(실제 학생 아님)\n",
    "\n",
    "del_index_actor = df_data[df_data['actor'] == \"learner10\"].index\n",
    "df_data_clean = df_data.drop(del_index_actor)\n",
    "\n",
    "df_data_clean['actor'].unique()"
   ]
  },
  {
   "cell_type": "markdown",
   "metadata": {},
   "source": [
    "### 1. 활동량 분석"
   ]
  },
  {
   "cell_type": "code",
   "execution_count": 13,
   "metadata": {},
   "outputs": [
    {
     "name": "stdout",
     "output_type": "stream",
     "text": [
      "{'6_3_19@g.cnees.kr': 1231, 'qwertyuiop': 1831, '6_3_5@g.cnees.kr': 1476, 'bonhyuk': 1485, '6_3_11@g.cnees.kr': 1230, '6_3_13@g.cnees.kr': 1303, '6_3_9_2@g.cnees.kr': 727, '정윤석': 1240, '6_3_2@g.cnees.kr': 1614, 'kfc': 1382, '임세현': 1247, '6_3_1@g.cnees.kr': 1225, 'g.cnees.kr': 1116, 'eunhalim0908': 971, '6_3_27@g.cnees.kr': 1273, '6_3_12@g.cnees.kr': 1204, '6_3_6@g.cnees.kr': 1052, '6_3_26@g.cnees.kr': 159, '6_3_17@g.cnees.kr': 1253, 'jisu0512': 654, '안성민': 1010, '6_3_18@g.cnees.kr': 97, '6_3_14@g.cnees.kr': 704, '6_3_20@g.cnees.kr': 634, '6_3_8@g.cnees.kr': 1264, 'npe#31': 1359}\n"
     ]
    }
   ],
   "source": [
    "#활동량 분석\n",
    "#각각의 학생별로 총 로그 수를 계산\n",
    "\n",
    "student_total_logs = {}\n",
    "\n",
    "for student in df_data_clean['actor'].unique():\n",
    "    student_total_logs[student] = len(df_data_clean[df_data_clean['actor'] == student])\n",
    "\n",
    "print(student_total_logs)"
   ]
  },
  {
   "cell_type": "code",
   "execution_count": 14,
   "metadata": {},
   "outputs": [
    {
     "name": "stdout",
     "output_type": "stream",
     "text": [
      "[('qwertyuiop', 1831), ('6_3_2@g.cnees.kr', 1614), ('bonhyuk', 1485), ('6_3_5@g.cnees.kr', 1476), ('kfc', 1382), ('npe#31', 1359), ('6_3_13@g.cnees.kr', 1303), ('6_3_27@g.cnees.kr', 1273), ('6_3_8@g.cnees.kr', 1264), ('6_3_17@g.cnees.kr', 1253), ('임세현', 1247), ('정윤석', 1240), ('6_3_19@g.cnees.kr', 1231), ('6_3_11@g.cnees.kr', 1230), ('6_3_1@g.cnees.kr', 1225), ('6_3_12@g.cnees.kr', 1204), ('g.cnees.kr', 1116), ('6_3_6@g.cnees.kr', 1052), ('안성민', 1010), ('eunhalim0908', 971), ('6_3_9_2@g.cnees.kr', 727), ('6_3_14@g.cnees.kr', 704), ('jisu0512', 654), ('6_3_20@g.cnees.kr', 634), ('6_3_26@g.cnees.kr', 159), ('6_3_18@g.cnees.kr', 97)]\n"
     ]
    }
   ],
   "source": [
    "print(sorted(student_total_logs.items(), key = lambda x: x[1], reverse = True))"
   ]
  },
  {
   "cell_type": "code",
   "execution_count": 15,
   "metadata": {},
   "outputs": [
    {
     "name": "stdout",
     "output_type": "stream",
     "text": [
      "['qwertyuiop', '6_3_2@g.cnees.kr', 'bonhyuk', '6_3_5@g.cnees.kr', 'kfc', 'npe#31', '6_3_13@g.cnees.kr', '6_3_27@g.cnees.kr', '6_3_8@g.cnees.kr', '6_3_17@g.cnees.kr', '임세현', '정윤석', '6_3_19@g.cnees.kr', '6_3_11@g.cnees.kr', '6_3_1@g.cnees.kr', '6_3_12@g.cnees.kr', 'g.cnees.kr', '6_3_6@g.cnees.kr', '안성민', 'eunhalim0908', '6_3_9_2@g.cnees.kr', '6_3_14@g.cnees.kr', 'jisu0512', '6_3_20@g.cnees.kr', '6_3_26@g.cnees.kr', '6_3_18@g.cnees.kr']\n",
      "[1831, 1614, 1485, 1476, 1382, 1359, 1303, 1273, 1264, 1253, 1247, 1240, 1231, 1230, 1225, 1204, 1116, 1052, 1010, 971, 727, 704, 654, 634, 159, 97]\n"
     ]
    }
   ],
   "source": [
    "student_total_logs_sorted = sorted(student_total_logs.items(), key = lambda x: x[1], reverse = True)\n",
    "\n",
    "students = []\n",
    "total_logs = []\n",
    "\n",
    "for stu, log in student_total_logs_sorted:\n",
    "    students.append(stu)\n",
    "    total_logs.append(log)\n",
    "\n",
    "print(students)\n",
    "print(total_logs)"
   ]
  },
  {
   "cell_type": "code",
   "execution_count": 16,
   "metadata": {},
   "outputs": [
    {
     "name": "stdout",
     "output_type": "stream",
     "text": [
      "['qwertyuiop', '6_3_2@g.cnees.kr', 'bonhyuk', '6_3_5@g.cnees.kr', 'kfc', 'npe#31', '6_3_13@g.cnees.kr', '6_3_27@g.cnees.kr', '6_3_8@g.cnees.kr', '6_3_17@g.cnees.kr', '임세현', '정윤석', '6_3_19@g.cnees.kr', '6_3_11@g.cnees.kr', '6_3_1@g.cnees.kr', '6_3_12@g.cnees.kr', 'g.cnees.kr', '6_3_6@g.cnees.kr', '안성민', 'eunhalim0908', '6_3_9_2@g.cnees.kr', '6_3_14@g.cnees.kr', 'jisu0512', '6_3_20@g.cnees.kr', '6_3_26@g.cnees.kr', '6_3_18@g.cnees.kr', 'average']\n",
      "[1831, 1614, 1485, 1476, 1382, 1359, 1303, 1273, 1264, 1253, 1247, 1240, 1231, 1230, 1225, 1204, 1116, 1052, 1010, 971, 727, 704, 654, 634, 159, 97, 1105.423076923077]\n"
     ]
    },
    {
     "name": "stderr",
     "output_type": "stream",
     "text": [
      "/usr/local/lib/python3.6/dist-packages/matplotlib/backends/backend_agg.py:238: RuntimeWarning: Glyph 51076 missing from current font.\n",
      "  font.set_text(s, 0.0, flags=flags)\n",
      "/usr/local/lib/python3.6/dist-packages/matplotlib/backends/backend_agg.py:238: RuntimeWarning: Glyph 49464 missing from current font.\n",
      "  font.set_text(s, 0.0, flags=flags)\n",
      "/usr/local/lib/python3.6/dist-packages/matplotlib/backends/backend_agg.py:238: RuntimeWarning: Glyph 54788 missing from current font.\n",
      "  font.set_text(s, 0.0, flags=flags)\n",
      "/usr/local/lib/python3.6/dist-packages/matplotlib/backends/backend_agg.py:238: RuntimeWarning: Glyph 51221 missing from current font.\n",
      "  font.set_text(s, 0.0, flags=flags)\n",
      "/usr/local/lib/python3.6/dist-packages/matplotlib/backends/backend_agg.py:238: RuntimeWarning: Glyph 50980 missing from current font.\n",
      "  font.set_text(s, 0.0, flags=flags)\n",
      "/usr/local/lib/python3.6/dist-packages/matplotlib/backends/backend_agg.py:238: RuntimeWarning: Glyph 49437 missing from current font.\n",
      "  font.set_text(s, 0.0, flags=flags)\n",
      "/usr/local/lib/python3.6/dist-packages/matplotlib/backends/backend_agg.py:238: RuntimeWarning: Glyph 50504 missing from current font.\n",
      "  font.set_text(s, 0.0, flags=flags)\n",
      "/usr/local/lib/python3.6/dist-packages/matplotlib/backends/backend_agg.py:238: RuntimeWarning: Glyph 49457 missing from current font.\n",
      "  font.set_text(s, 0.0, flags=flags)\n",
      "/usr/local/lib/python3.6/dist-packages/matplotlib/backends/backend_agg.py:238: RuntimeWarning: Glyph 48124 missing from current font.\n",
      "  font.set_text(s, 0.0, flags=flags)\n",
      "/usr/local/lib/python3.6/dist-packages/matplotlib/backends/backend_agg.py:201: RuntimeWarning: Glyph 51076 missing from current font.\n",
      "  font.set_text(s, 0, flags=flags)\n",
      "/usr/local/lib/python3.6/dist-packages/matplotlib/backends/backend_agg.py:201: RuntimeWarning: Glyph 49464 missing from current font.\n",
      "  font.set_text(s, 0, flags=flags)\n",
      "/usr/local/lib/python3.6/dist-packages/matplotlib/backends/backend_agg.py:201: RuntimeWarning: Glyph 54788 missing from current font.\n",
      "  font.set_text(s, 0, flags=flags)\n",
      "/usr/local/lib/python3.6/dist-packages/matplotlib/backends/backend_agg.py:201: RuntimeWarning: Glyph 51221 missing from current font.\n",
      "  font.set_text(s, 0, flags=flags)\n",
      "/usr/local/lib/python3.6/dist-packages/matplotlib/backends/backend_agg.py:201: RuntimeWarning: Glyph 50980 missing from current font.\n",
      "  font.set_text(s, 0, flags=flags)\n",
      "/usr/local/lib/python3.6/dist-packages/matplotlib/backends/backend_agg.py:201: RuntimeWarning: Glyph 49437 missing from current font.\n",
      "  font.set_text(s, 0, flags=flags)\n",
      "/usr/local/lib/python3.6/dist-packages/matplotlib/backends/backend_agg.py:201: RuntimeWarning: Glyph 50504 missing from current font.\n",
      "  font.set_text(s, 0, flags=flags)\n",
      "/usr/local/lib/python3.6/dist-packages/matplotlib/backends/backend_agg.py:201: RuntimeWarning: Glyph 49457 missing from current font.\n",
      "  font.set_text(s, 0, flags=flags)\n",
      "/usr/local/lib/python3.6/dist-packages/matplotlib/backends/backend_agg.py:201: RuntimeWarning: Glyph 48124 missing from current font.\n",
      "  font.set_text(s, 0, flags=flags)\n"
     ]
    },
    {
     "data": {
      "image/png": "[encoded data removed]",
      "text/plain": [
       "<Figure size 1440x720 with 1 Axes>"
      ]
     },
     "metadata": {
      "needs_background": "light"
     },
     "output_type": "display_data"
    }
   ],
   "source": [
    "#평균 반영해서 차트에 넣긴\n",
    "\n",
    "students.append('average')\n",
    "\n",
    "#평균 더하기\n",
    "np_total_logs = np.array(total_logs)\n",
    "total_logs.append(np_total_logs.mean())\n",
    "\n",
    "print(students)\n",
    "print(total_logs)\n",
    "\n",
    "plt.figure(figsize = (20, 10))\n",
    "plt.bar(students, total_logs)\n",
    "plt.show()"
   ]
  },
  {
   "cell_type": "markdown",
   "metadata": {},
   "source": [
    "### 2. 시청 시간 분석"
   ]
  },
  {
   "cell_type": "code",
   "execution_count": 17,
   "metadata": {},
   "outputs": [
    {
     "name": "stdout",
     "output_type": "stream",
     "text": [
      "{'시청기록': 39, '시청중': 27142, '실행': 315, '중지': 508, '퀴즈/메시지 등장': 64, '퀴즈/메시지 응답': 62, '재생바 클릭': 11, '강의 평가 등장': 400, '강의 평가 제출': 226}\n"
     ]
    }
   ],
   "source": [
    "df_data_clean['verb'].unique()\n",
    "\n",
    "verb_counts = {}\n",
    "\n",
    "for v in df_data_clean['verb'].unique():\n",
    "    verb_counts[v] = len(df_data[df_data['verb'] == v])\n",
    "\n",
    "print(verb_counts)"
   ]
  },
  {
   "cell_type": "markdown",
   "metadata": {},
   "source": [
    "먼저 전체 시청중을 plot으로 그려보기"
   ]
  },
  {
   "cell_type": "code",
   "execution_count": 18,
   "metadata": {},
   "outputs": [
    {
     "data": {
      "text/html": [
       "<div>\n",
       "<style scoped>\n",
       "    .dataframe tbody tr th:only-of-type {\n",
       "        vertical-align: middle;\n",
       "    }\n",
       "\n",
       "    .dataframe tbody tr th {\n",
       "        vertical-align: top;\n",
       "    }\n",
       "\n",
       "    .dataframe thead th {\n",
       "        text-align: right;\n",
       "    }\n",
       "</style>\n",
       "<table border=\"1\" class=\"dataframe\">\n",
       "  <thead>\n",
       "    <tr style=\"text-align: right;\">\n",
       "      <th></th>\n",
       "      <th>actor</th>\n",
       "      <th>object</th>\n",
       "      <th>verb</th>\n",
       "      <th>timestamp</th>\n",
       "    </tr>\n",
       "  </thead>\n",
       "  <tbody>\n",
       "    <tr>\n",
       "      <th>27</th>\n",
       "      <td>6_3_19@g.cnees.kr</td>\n",
       "      <td>삼양문화 진로교육연구원 영화로 떠나는 진로여행 첫 번째_그릿(GRIT)</td>\n",
       "      <td>시청중</td>\n",
       "      <td>2021-12-15T08:53:40.485</td>\n",
       "    </tr>\n",
       "    <tr>\n",
       "      <th>29</th>\n",
       "      <td>6_3_19@g.cnees.kr</td>\n",
       "      <td>삼양문화 진로교육연구원 영화로 떠나는 진로여행 첫 번째_그릿(GRIT)</td>\n",
       "      <td>시청중</td>\n",
       "      <td>2021-12-15T08:53:43.509</td>\n",
       "    </tr>\n",
       "    <tr>\n",
       "      <th>30</th>\n",
       "      <td>6_3_19@g.cnees.kr</td>\n",
       "      <td>삼양문화 진로교육연구원 영화로 떠나는 진로여행 첫 번째_그릿(GRIT)</td>\n",
       "      <td>시청중</td>\n",
       "      <td>2021-12-15T08:53:44.526</td>\n",
       "    </tr>\n",
       "    <tr>\n",
       "      <th>31</th>\n",
       "      <td>6_3_19@g.cnees.kr</td>\n",
       "      <td>삼양문화 진로교육연구원 영화로 떠나는 진로여행 첫 번째_그릿(GRIT)</td>\n",
       "      <td>시청중</td>\n",
       "      <td>2021-12-15T08:53:45.532</td>\n",
       "    </tr>\n",
       "    <tr>\n",
       "      <th>32</th>\n",
       "      <td>6_3_19@g.cnees.kr</td>\n",
       "      <td>삼양문화 진로교육연구원 영화로 떠나는 진로여행 첫 번째_그릿(GRIT)</td>\n",
       "      <td>시청중</td>\n",
       "      <td>2021-12-15T08:53:46.540</td>\n",
       "    </tr>\n",
       "  </tbody>\n",
       "</table>\n",
       "</div>"
      ],
      "text/plain": [
       "                actor                                   object verb  \\\n",
       "27  6_3_19@g.cnees.kr  삼양문화 진로교육연구원 영화로 떠나는 진로여행 첫 번째_그릿(GRIT)  시청중   \n",
       "29  6_3_19@g.cnees.kr  삼양문화 진로교육연구원 영화로 떠나는 진로여행 첫 번째_그릿(GRIT)  시청중   \n",
       "30  6_3_19@g.cnees.kr  삼양문화 진로교육연구원 영화로 떠나는 진로여행 첫 번째_그릿(GRIT)  시청중   \n",
       "31  6_3_19@g.cnees.kr  삼양문화 진로교육연구원 영화로 떠나는 진로여행 첫 번째_그릿(GRIT)  시청중   \n",
       "32  6_3_19@g.cnees.kr  삼양문화 진로교육연구원 영화로 떠나는 진로여행 첫 번째_그릿(GRIT)  시청중   \n",
       "\n",
       "                  timestamp  \n",
       "27  2021-12-15T08:53:40.485  \n",
       "29  2021-12-15T08:53:43.509  \n",
       "30  2021-12-15T08:53:44.526  \n",
       "31  2021-12-15T08:53:45.532  \n",
       "32  2021-12-15T08:53:46.540  "
      ]
     },
     "execution_count": 18,
     "metadata": {},
     "output_type": "execute_result"
    }
   ],
   "source": [
    "#시청 중만 추린 판다스 데이터 프레임 만들기\n",
    "student_total_watching_pd = df_data_clean[df_data_clean['verb'] == '시청중']\n",
    "student_total_watching_pd.head()"
   ]
  },
  {
   "cell_type": "code",
   "execution_count": 19,
   "metadata": {},
   "outputs": [
    {
     "name": "stdout",
     "output_type": "stream",
     "text": [
      "학생별 시청중 갯수:  {'6_3_19@g.cnees.kr': 1216, 'qwertyuiop': 1800, '6_3_5@g.cnees.kr': 1195, 'bonhyuk': 1198, '6_3_11@g.cnees.kr': 1200, '6_3_13@g.cnees.kr': 1203, '6_3_9_2@g.cnees.kr': 712, '정윤석': 1197, '6_3_2@g.cnees.kr': 1590, 'kfc': 1236, '임세현': 1195, '6_3_1@g.cnees.kr': 1197, 'g.cnees.kr': 1085, 'eunhalim0908': 950, '6_3_27@g.cnees.kr': 1215, '6_3_12@g.cnees.kr': 1194, '6_3_6@g.cnees.kr': 1028, '6_3_26@g.cnees.kr': 144, '6_3_17@g.cnees.kr': 1195, 'jisu0512': 624, '안성민': 941, '6_3_18@g.cnees.kr': 82, '6_3_14@g.cnees.kr': 681, '6_3_20@g.cnees.kr': 606, '6_3_8@g.cnees.kr': 1237, 'npe#31': 1206}\n"
     ]
    }
   ],
   "source": [
    "student_total_watching_logs = {}\n",
    "\n",
    "for student in df_data_clean['actor'].unique():\n",
    "    #각 학생별 갯수를 넣기(전체 시청 중 데이터 중에서 각 학생들이 속한 갯수를 확인하면 됨)\n",
    "    #전항에는 딕셔너리로 표시\n",
    "    #후항에는 전체 시청 중 데이터 중에서 각 학생별 데이터 확인\n",
    "    student_total_watching_logs[student] = len(student_total_watching_pd[student_total_watching_pd['actor'] == student])\n",
    "\n",
    "print('학생별 시청중 갯수: ', student_total_watching_logs)"
   ]
  },
  {
   "cell_type": "code",
   "execution_count": 20,
   "metadata": {},
   "outputs": [
    {
     "name": "stdout",
     "output_type": "stream",
     "text": [
      "[('qwertyuiop', 1800), ('6_3_2@g.cnees.kr', 1590), ('6_3_8@g.cnees.kr', 1237), ('kfc', 1236), ('6_3_19@g.cnees.kr', 1216), ('6_3_27@g.cnees.kr', 1215), ('npe#31', 1206), ('6_3_13@g.cnees.kr', 1203), ('6_3_11@g.cnees.kr', 1200), ('bonhyuk', 1198), ('정윤석', 1197), ('6_3_1@g.cnees.kr', 1197), ('6_3_5@g.cnees.kr', 1195), ('임세현', 1195), ('6_3_17@g.cnees.kr', 1195), ('6_3_12@g.cnees.kr', 1194), ('g.cnees.kr', 1085), ('6_3_6@g.cnees.kr', 1028), ('eunhalim0908', 950), ('안성민', 941), ('6_3_9_2@g.cnees.kr', 712), ('6_3_14@g.cnees.kr', 681), ('jisu0512', 624), ('6_3_20@g.cnees.kr', 606), ('6_3_26@g.cnees.kr', 144), ('6_3_18@g.cnees.kr', 82)]\n"
     ]
    }
   ],
   "source": [
    "print(sorted(student_total_watching_logs.items(), key = lambda x: x[1], reverse = True))"
   ]
  },
  {
   "cell_type": "code",
   "execution_count": 21,
   "metadata": {},
   "outputs": [
    {
     "name": "stdout",
     "output_type": "stream",
     "text": [
      "['qwertyuiop', '6_3_2@g.cnees.kr', '6_3_8@g.cnees.kr', 'kfc', '6_3_19@g.cnees.kr', '6_3_27@g.cnees.kr', 'npe#31', '6_3_13@g.cnees.kr', '6_3_11@g.cnees.kr', 'bonhyuk', '정윤석', '6_3_1@g.cnees.kr', '6_3_5@g.cnees.kr', '임세현', '6_3_17@g.cnees.kr', '6_3_12@g.cnees.kr', 'g.cnees.kr', '6_3_6@g.cnees.kr', 'eunhalim0908', '안성민', '6_3_9_2@g.cnees.kr', '6_3_14@g.cnees.kr', 'jisu0512', '6_3_20@g.cnees.kr', '6_3_26@g.cnees.kr', '6_3_18@g.cnees.kr']\n",
      "[1800, 1590, 1237, 1236, 1216, 1215, 1206, 1203, 1200, 1198, 1197, 1197, 1195, 1195, 1195, 1194, 1085, 1028, 950, 941, 712, 681, 624, 606, 144, 82]\n"
     ]
    }
   ],
   "source": [
    "student_total_watching_logs_sorted = sorted(student_total_watching_logs.items(), key = lambda x: x[1], reverse = True)\n",
    "\n",
    "watching_students = []\n",
    "watching_logs = []\n",
    "\n",
    "for stu, log in student_total_watching_logs_sorted:\n",
    "    watching_students.append(stu)\n",
    "    watching_logs.append(log)\n",
    "\n",
    "print(watching_students)\n",
    "print(watching_logs)"
   ]
  },
  {
   "cell_type": "code",
   "execution_count": 22,
   "metadata": {},
   "outputs": [
    {
     "name": "stdout",
     "output_type": "stream",
     "text": [
      "['qwertyuiop', '6_3_2@g.cnees.kr', '6_3_8@g.cnees.kr', 'kfc', '6_3_19@g.cnees.kr', '6_3_27@g.cnees.kr', 'npe#31', '6_3_13@g.cnees.kr', '6_3_11@g.cnees.kr', 'bonhyuk', '정윤석', '6_3_1@g.cnees.kr', '6_3_5@g.cnees.kr', '임세현', '6_3_17@g.cnees.kr', '6_3_12@g.cnees.kr', 'g.cnees.kr', '6_3_6@g.cnees.kr', 'eunhalim0908', '안성민', '6_3_9_2@g.cnees.kr', '6_3_14@g.cnees.kr', 'jisu0512', '6_3_20@g.cnees.kr', '6_3_26@g.cnees.kr', '6_3_18@g.cnees.kr', 'average']\n",
      "[1800, 1590, 1237, 1236, 1216, 1215, 1206, 1203, 1200, 1198, 1197, 1197, 1195, 1195, 1195, 1194, 1085, 1028, 950, 941, 712, 681, 624, 606, 144, 82, 1043.3461538461538]\n"
     ]
    },
    {
     "name": "stderr",
     "output_type": "stream",
     "text": [
      "/usr/local/lib/python3.6/dist-packages/matplotlib/backends/backend_agg.py:238: RuntimeWarning: Glyph 51221 missing from current font.\n",
      "  font.set_text(s, 0.0, flags=flags)\n",
      "/usr/local/lib/python3.6/dist-packages/matplotlib/backends/backend_agg.py:238: RuntimeWarning: Glyph 50980 missing from current font.\n",
      "  font.set_text(s, 0.0, flags=flags)\n",
      "/usr/local/lib/python3.6/dist-packages/matplotlib/backends/backend_agg.py:238: RuntimeWarning: Glyph 49437 missing from current font.\n",
      "  font.set_text(s, 0.0, flags=flags)\n",
      "/usr/local/lib/python3.6/dist-packages/matplotlib/backends/backend_agg.py:238: RuntimeWarning: Glyph 51076 missing from current font.\n",
      "  font.set_text(s, 0.0, flags=flags)\n",
      "/usr/local/lib/python3.6/dist-packages/matplotlib/backends/backend_agg.py:238: RuntimeWarning: Glyph 49464 missing from current font.\n",
      "  font.set_text(s, 0.0, flags=flags)\n",
      "/usr/local/lib/python3.6/dist-packages/matplotlib/backends/backend_agg.py:238: RuntimeWarning: Glyph 54788 missing from current font.\n",
      "  font.set_text(s, 0.0, flags=flags)\n",
      "/usr/local/lib/python3.6/dist-packages/matplotlib/backends/backend_agg.py:238: RuntimeWarning: Glyph 50504 missing from current font.\n",
      "  font.set_text(s, 0.0, flags=flags)\n",
      "/usr/local/lib/python3.6/dist-packages/matplotlib/backends/backend_agg.py:238: RuntimeWarning: Glyph 49457 missing from current font.\n",
      "  font.set_text(s, 0.0, flags=flags)\n",
      "/usr/local/lib/python3.6/dist-packages/matplotlib/backends/backend_agg.py:238: RuntimeWarning: Glyph 48124 missing from current font.\n",
      "  font.set_text(s, 0.0, flags=flags)\n",
      "/usr/local/lib/python3.6/dist-packages/matplotlib/backends/backend_agg.py:201: RuntimeWarning: Glyph 51221 missing from current font.\n",
      "  font.set_text(s, 0, flags=flags)\n",
      "/usr/local/lib/python3.6/dist-packages/matplotlib/backends/backend_agg.py:201: RuntimeWarning: Glyph 50980 missing from current font.\n",
      "  font.set_text(s, 0, flags=flags)\n",
      "/usr/local/lib/python3.6/dist-packages/matplotlib/backends/backend_agg.py:201: RuntimeWarning: Glyph 49437 missing from current font.\n",
      "  font.set_text(s, 0, flags=flags)\n",
      "/usr/local/lib/python3.6/dist-packages/matplotlib/backends/backend_agg.py:201: RuntimeWarning: Glyph 51076 missing from current font.\n",
      "  font.set_text(s, 0, flags=flags)\n",
      "/usr/local/lib/python3.6/dist-packages/matplotlib/backends/backend_agg.py:201: RuntimeWarning: Glyph 49464 missing from current font.\n",
      "  font.set_text(s, 0, flags=flags)\n",
      "/usr/local/lib/python3.6/dist-packages/matplotlib/backends/backend_agg.py:201: RuntimeWarning: Glyph 54788 missing from current font.\n",
      "  font.set_text(s, 0, flags=flags)\n",
      "/usr/local/lib/python3.6/dist-packages/matplotlib/backends/backend_agg.py:201: RuntimeWarning: Glyph 50504 missing from current font.\n",
      "  font.set_text(s, 0, flags=flags)\n",
      "/usr/local/lib/python3.6/dist-packages/matplotlib/backends/backend_agg.py:201: RuntimeWarning: Glyph 49457 missing from current font.\n",
      "  font.set_text(s, 0, flags=flags)\n",
      "/usr/local/lib/python3.6/dist-packages/matplotlib/backends/backend_agg.py:201: RuntimeWarning: Glyph 48124 missing from current font.\n",
      "  font.set_text(s, 0, flags=flags)\n"
     ]
    },
    {
     "data": {
      "image/png": "[encoded data removed]",
      "text/plain": [
       "<Figure size 1440x720 with 1 Axes>"
      ]
     },
     "metadata": {
      "needs_background": "light"
     },
     "output_type": "display_data"
    }
   ],
   "source": [
    "#평균 반영해서 차트에 넣긴\n",
    "\n",
    "watching_students.append('average')\n",
    "\n",
    "#평균 더하기\n",
    "np_watching_logs = np.array(watching_logs)\n",
    "watching_logs.append(np_watching_logs.mean())\n",
    "\n",
    "print(watching_students)\n",
    "print(watching_logs)\n",
    "\n",
    "plt.figure(figsize = (20, 10))\n",
    "plt.bar(watching_students, watching_logs)\n",
    "plt.show()"
   ]
  },
  {
   "cell_type": "markdown",
   "metadata": {},
   "source": [
    "1. 전체 시청중 확인을 통해 시청중 로그 갯수의 비중이 가장 높기에, 활동량과 시청중 분석량이 비슷하다는 것을 알 수 있음\n",
    "2. 이를 통해 완료율을 대략 짐작할 수 있음\n",
    "3. 크게 3가지 군으로 나누어 볼 수 있음(초과학습, 완료, 미완료)"
   ]
  },
  {
   "cell_type": "code",
   "execution_count": 23,
   "metadata": {},
   "outputs": [
    {
     "data": {
      "text/html": [
       "<div>\n",
       "<style scoped>\n",
       "    .dataframe tbody tr th:only-of-type {\n",
       "        vertical-align: middle;\n",
       "    }\n",
       "\n",
       "    .dataframe tbody tr th {\n",
       "        vertical-align: top;\n",
       "    }\n",
       "\n",
       "    .dataframe thead th {\n",
       "        text-align: right;\n",
       "    }\n",
       "</style>\n",
       "<table border=\"1\" class=\"dataframe\">\n",
       "  <thead>\n",
       "    <tr style=\"text-align: right;\">\n",
       "      <th></th>\n",
       "      <th>actor</th>\n",
       "      <th>object</th>\n",
       "      <th>verb</th>\n",
       "      <th>timestamp</th>\n",
       "    </tr>\n",
       "  </thead>\n",
       "  <tbody>\n",
       "    <tr>\n",
       "      <th>128</th>\n",
       "      <td>qwertyuiop</td>\n",
       "      <td>삼양문화 진로교육연구원 영화로 떠나는 진로여행 첫 번째_그릿(GRIT)</td>\n",
       "      <td>시청기록</td>\n",
       "      <td>2021-12-15T08:55:26.244</td>\n",
       "    </tr>\n",
       "    <tr>\n",
       "      <th>131</th>\n",
       "      <td>qwertyuiop</td>\n",
       "      <td>삼양문화 진로교육연구원 영화로 떠나는 진로여행 첫 번째_그릿(GRIT)</td>\n",
       "      <td>시청중</td>\n",
       "      <td>2021-12-15T08:55:28.352</td>\n",
       "    </tr>\n",
       "    <tr>\n",
       "      <th>136</th>\n",
       "      <td>qwertyuiop</td>\n",
       "      <td>삼양문화 진로교육연구원 영화로 떠나는 진로여행 첫 번째_그릿(GRIT)</td>\n",
       "      <td>실행</td>\n",
       "      <td>2021-12-15T08:55:32.097</td>\n",
       "    </tr>\n",
       "    <tr>\n",
       "      <th>138</th>\n",
       "      <td>qwertyuiop</td>\n",
       "      <td>삼양문화 진로교육연구원 영화로 떠나는 진로여행 첫 번째_그릿(GRIT)</td>\n",
       "      <td>시청중</td>\n",
       "      <td>2021-12-15T08:55:33.388</td>\n",
       "    </tr>\n",
       "    <tr>\n",
       "      <th>140</th>\n",
       "      <td>qwertyuiop</td>\n",
       "      <td>삼양문화 진로교육연구원 영화로 떠나는 진로여행 첫 번째_그릿(GRIT)</td>\n",
       "      <td>시청중</td>\n",
       "      <td>2021-12-15T08:55:34.406</td>\n",
       "    </tr>\n",
       "  </tbody>\n",
       "</table>\n",
       "</div>"
      ],
      "text/plain": [
       "          actor                                   object  verb  \\\n",
       "128  qwertyuiop  삼양문화 진로교육연구원 영화로 떠나는 진로여행 첫 번째_그릿(GRIT)  시청기록   \n",
       "131  qwertyuiop  삼양문화 진로교육연구원 영화로 떠나는 진로여행 첫 번째_그릿(GRIT)   시청중   \n",
       "136  qwertyuiop  삼양문화 진로교육연구원 영화로 떠나는 진로여행 첫 번째_그릿(GRIT)    실행   \n",
       "138  qwertyuiop  삼양문화 진로교육연구원 영화로 떠나는 진로여행 첫 번째_그릿(GRIT)   시청중   \n",
       "140  qwertyuiop  삼양문화 진로교육연구원 영화로 떠나는 진로여행 첫 번째_그릿(GRIT)   시청중   \n",
       "\n",
       "                   timestamp  \n",
       "128  2021-12-15T08:55:26.244  \n",
       "131  2021-12-15T08:55:28.352  \n",
       "136  2021-12-15T08:55:32.097  \n",
       "138  2021-12-15T08:55:33.388  \n",
       "140  2021-12-15T08:55:34.406  "
      ]
     },
     "execution_count": 23,
     "metadata": {},
     "output_type": "execute_result"
    }
   ],
   "source": [
    "#qwertyuiop와 6_3_18@g.cnees.kr 두 명을 중심으로 분석해보기\n",
    "\n",
    "#qwertyuiop의 데이터\n",
    "\n",
    "df_data_qwertyuiop = df_data_clean[df_data_clean['actor'] == \"qwertyuiop\"]\n",
    "\n",
    "df_data_qwertyuiop.head()"
   ]
  },
  {
   "cell_type": "code",
   "execution_count": 24,
   "metadata": {},
   "outputs": [
    {
     "data": {
      "text/html": [
       "<div>\n",
       "<style scoped>\n",
       "    .dataframe tbody tr th:only-of-type {\n",
       "        vertical-align: middle;\n",
       "    }\n",
       "\n",
       "    .dataframe tbody tr th {\n",
       "        vertical-align: top;\n",
       "    }\n",
       "\n",
       "    .dataframe thead th {\n",
       "        text-align: right;\n",
       "    }\n",
       "</style>\n",
       "<table border=\"1\" class=\"dataframe\">\n",
       "  <thead>\n",
       "    <tr style=\"text-align: right;\">\n",
       "      <th></th>\n",
       "      <th>actor</th>\n",
       "      <th>object</th>\n",
       "      <th>verb</th>\n",
       "      <th>timestamp</th>\n",
       "    </tr>\n",
       "  </thead>\n",
       "  <tbody>\n",
       "    <tr>\n",
       "      <th>14551</th>\n",
       "      <td>6_3_18@g.cnees.kr</td>\n",
       "      <td>삼양문화 진로교육연구원 영화로 떠나는 진로여행 첫 번째_그릿(GRIT)</td>\n",
       "      <td>시청기록</td>\n",
       "      <td>2021-12-15T09:16:16.968</td>\n",
       "    </tr>\n",
       "    <tr>\n",
       "      <th>14590</th>\n",
       "      <td>6_3_18@g.cnees.kr</td>\n",
       "      <td>삼양문화 진로교육연구원 영화로 떠나는 진로여행 첫 번째_그릿(GRIT)</td>\n",
       "      <td>시청중</td>\n",
       "      <td>2021-12-15T09:16:19.235</td>\n",
       "    </tr>\n",
       "    <tr>\n",
       "      <th>14661</th>\n",
       "      <td>6_3_18@g.cnees.kr</td>\n",
       "      <td>삼양문화 진로교육연구원 영화로 떠나는 진로여행 첫 번째_그릿(GRIT)</td>\n",
       "      <td>실행</td>\n",
       "      <td>2021-12-15T09:16:23.151</td>\n",
       "    </tr>\n",
       "    <tr>\n",
       "      <th>14721</th>\n",
       "      <td>6_3_18@g.cnees.kr</td>\n",
       "      <td>삼양문화 진로교육연구원 영화로 떠나는 진로여행 첫 번째_그릿(GRIT)</td>\n",
       "      <td>시청중</td>\n",
       "      <td>2021-12-15T09:16:26.272</td>\n",
       "    </tr>\n",
       "    <tr>\n",
       "      <th>14741</th>\n",
       "      <td>6_3_18@g.cnees.kr</td>\n",
       "      <td>삼양문화 진로교육연구원 영화로 떠나는 진로여행 첫 번째_그릿(GRIT)</td>\n",
       "      <td>시청중</td>\n",
       "      <td>2021-12-15T09:16:27.284</td>\n",
       "    </tr>\n",
       "  </tbody>\n",
       "</table>\n",
       "</div>"
      ],
      "text/plain": [
       "                   actor                                   object  verb  \\\n",
       "14551  6_3_18@g.cnees.kr  삼양문화 진로교육연구원 영화로 떠나는 진로여행 첫 번째_그릿(GRIT)  시청기록   \n",
       "14590  6_3_18@g.cnees.kr  삼양문화 진로교육연구원 영화로 떠나는 진로여행 첫 번째_그릿(GRIT)   시청중   \n",
       "14661  6_3_18@g.cnees.kr  삼양문화 진로교육연구원 영화로 떠나는 진로여행 첫 번째_그릿(GRIT)    실행   \n",
       "14721  6_3_18@g.cnees.kr  삼양문화 진로교육연구원 영화로 떠나는 진로여행 첫 번째_그릿(GRIT)   시청중   \n",
       "14741  6_3_18@g.cnees.kr  삼양문화 진로교육연구원 영화로 떠나는 진로여행 첫 번째_그릿(GRIT)   시청중   \n",
       "\n",
       "                     timestamp  \n",
       "14551  2021-12-15T09:16:16.968  \n",
       "14590  2021-12-15T09:16:19.235  \n",
       "14661  2021-12-15T09:16:23.151  \n",
       "14721  2021-12-15T09:16:26.272  \n",
       "14741  2021-12-15T09:16:27.284  "
      ]
     },
     "execution_count": 24,
     "metadata": {},
     "output_type": "execute_result"
    }
   ],
   "source": [
    "#6_3_18@g.cnees.kr의 데이터\n",
    "\n",
    "df_data_6_3_18 = df_data_clean[df_data_clean['actor'] == \"6_3_18@g.cnees.kr\"]\n",
    "\n",
    "df_data_6_3_18.head()"
   ]
  },
  {
   "cell_type": "code",
   "execution_count": 25,
   "metadata": {},
   "outputs": [
    {
     "name": "stdout",
     "output_type": "stream",
     "text": [
      "{'시청기록': 3, '시청중': 1800, '실행': 7, '중지': 7, '퀴즈/메시지 등장': 3, '퀴즈/메시지 응답': 3, '재생바 클릭': 2, '강의 평가 등장': 4, '강의 평가 제출': 2}\n"
     ]
    }
   ],
   "source": [
    "#나중에 함수로 변경해서 사용하기\n",
    "\n",
    "#qwertyuiop의 verb 값\n",
    "\n",
    "df_data_qwertyuiop_verb_counts = {}\n",
    "\n",
    "for v in df_data_qwertyuiop['verb'].unique():\n",
    "    df_data_qwertyuiop_verb_counts[v] = len(df_data_qwertyuiop[df_data_qwertyuiop['verb'] == v])\n",
    "\n",
    "print(df_data_qwertyuiop_verb_counts)"
   ]
  },
  {
   "cell_type": "code",
   "execution_count": 26,
   "metadata": {},
   "outputs": [
    {
     "name": "stdout",
     "output_type": "stream",
     "text": [
      "{'시청기록': 1, '시청중': 82, '실행': 3, '중지': 4, '퀴즈/메시지 등장': 2, '퀴즈/메시지 응답': 2, '강의 평가 등장': 2, '강의 평가 제출': 1}\n"
     ]
    }
   ],
   "source": [
    "#6_3_18@g.cnees.kr의 verb 값\n",
    "\n",
    "df_data_6_3_18_verb_counts = {}\n",
    "\n",
    "for v in df_data_6_3_18['verb'].unique():\n",
    "    df_data_6_3_18_verb_counts[v] = len(df_data_6_3_18[df_data_6_3_18['verb'] == v])\n",
    "\n",
    "print(df_data_6_3_18_verb_counts)"
   ]
  },
  {
   "cell_type": "markdown",
   "metadata": {},
   "source": [
    "### 적층 그래프"
   ]
  },
  {
   "cell_type": "code",
   "execution_count": 51,
   "metadata": {},
   "outputs": [
    {
     "name": "stdout",
     "output_type": "stream",
     "text": [
      "['qwertyuiop', '6_3_2@g.cnees.kr', 'bonhyuk', '6_3_5@g.cnees.kr', 'kfc', 'npe#31', '6_3_13@g.cnees.kr', '6_3_27@g.cnees.kr', '6_3_8@g.cnees.kr', '6_3_17@g.cnees.kr', '임세현', '정윤석', '6_3_19@g.cnees.kr', '6_3_11@g.cnees.kr', '6_3_1@g.cnees.kr', '6_3_12@g.cnees.kr', 'g.cnees.kr', '6_3_6@g.cnees.kr', '안성민', 'eunhalim0908', '6_3_9_2@g.cnees.kr', '6_3_14@g.cnees.kr', 'jisu0512', '6_3_20@g.cnees.kr', '6_3_26@g.cnees.kr', '6_3_18@g.cnees.kr']\n",
      "26\n"
     ]
    }
   ],
   "source": [
    "#students에서 평균값 다시 빼기\n",
    "students = []\n",
    "\n",
    "for stu, log in student_total_logs_sorted:\n",
    "    students.append(stu)\n",
    "\n",
    "print(students)\n",
    "print(len(students))"
   ]
  },
  {
   "cell_type": "code",
   "execution_count": 52,
   "metadata": {},
   "outputs": [
    {
     "data": {
      "text/html": [
       "<div>\n",
       "<style scoped>\n",
       "    .dataframe tbody tr th:only-of-type {\n",
       "        vertical-align: middle;\n",
       "    }\n",
       "\n",
       "    .dataframe tbody tr th {\n",
       "        vertical-align: top;\n",
       "    }\n",
       "\n",
       "    .dataframe thead th {\n",
       "        text-align: right;\n",
       "    }\n",
       "</style>\n",
       "<table border=\"1\" class=\"dataframe\">\n",
       "  <thead>\n",
       "    <tr style=\"text-align: right;\">\n",
       "      <th></th>\n",
       "      <th>actor</th>\n",
       "      <th>object</th>\n",
       "      <th>verb</th>\n",
       "      <th>timestamp</th>\n",
       "    </tr>\n",
       "  </thead>\n",
       "  <tbody>\n",
       "    <tr>\n",
       "      <th>14551</th>\n",
       "      <td>6_3_18@g.cnees.kr</td>\n",
       "      <td>삼양문화 진로교육연구원 영화로 떠나는 진로여행 첫 번째_그릿(GRIT)</td>\n",
       "      <td>시청기록</td>\n",
       "      <td>2021-12-15T09:16:16.968</td>\n",
       "    </tr>\n",
       "    <tr>\n",
       "      <th>14590</th>\n",
       "      <td>6_3_18@g.cnees.kr</td>\n",
       "      <td>삼양문화 진로교육연구원 영화로 떠나는 진로여행 첫 번째_그릿(GRIT)</td>\n",
       "      <td>시청중</td>\n",
       "      <td>2021-12-15T09:16:19.235</td>\n",
       "    </tr>\n",
       "    <tr>\n",
       "      <th>14661</th>\n",
       "      <td>6_3_18@g.cnees.kr</td>\n",
       "      <td>삼양문화 진로교육연구원 영화로 떠나는 진로여행 첫 번째_그릿(GRIT)</td>\n",
       "      <td>실행</td>\n",
       "      <td>2021-12-15T09:16:23.151</td>\n",
       "    </tr>\n",
       "    <tr>\n",
       "      <th>14721</th>\n",
       "      <td>6_3_18@g.cnees.kr</td>\n",
       "      <td>삼양문화 진로교육연구원 영화로 떠나는 진로여행 첫 번째_그릿(GRIT)</td>\n",
       "      <td>시청중</td>\n",
       "      <td>2021-12-15T09:16:26.272</td>\n",
       "    </tr>\n",
       "    <tr>\n",
       "      <th>14741</th>\n",
       "      <td>6_3_18@g.cnees.kr</td>\n",
       "      <td>삼양문화 진로교육연구원 영화로 떠나는 진로여행 첫 번째_그릿(GRIT)</td>\n",
       "      <td>시청중</td>\n",
       "      <td>2021-12-15T09:16:27.284</td>\n",
       "    </tr>\n",
       "  </tbody>\n",
       "</table>\n",
       "</div>"
      ],
      "text/plain": [
       "                   actor                                   object  verb  \\\n",
       "14551  6_3_18@g.cnees.kr  삼양문화 진로교육연구원 영화로 떠나는 진로여행 첫 번째_그릿(GRIT)  시청기록   \n",
       "14590  6_3_18@g.cnees.kr  삼양문화 진로교육연구원 영화로 떠나는 진로여행 첫 번째_그릿(GRIT)   시청중   \n",
       "14661  6_3_18@g.cnees.kr  삼양문화 진로교육연구원 영화로 떠나는 진로여행 첫 번째_그릿(GRIT)    실행   \n",
       "14721  6_3_18@g.cnees.kr  삼양문화 진로교육연구원 영화로 떠나는 진로여행 첫 번째_그릿(GRIT)   시청중   \n",
       "14741  6_3_18@g.cnees.kr  삼양문화 진로교육연구원 영화로 떠나는 진로여행 첫 번째_그릿(GRIT)   시청중   \n",
       "\n",
       "                     timestamp  \n",
       "14551  2021-12-15T09:16:16.968  \n",
       "14590  2021-12-15T09:16:19.235  \n",
       "14661  2021-12-15T09:16:23.151  \n",
       "14721  2021-12-15T09:16:26.272  \n",
       "14741  2021-12-15T09:16:27.284  "
      ]
     },
     "execution_count": 52,
     "metadata": {},
     "output_type": "execute_result"
    }
   ],
   "source": [
    "df_data_6_3_18 = df_data_clean[df_data_clean['actor'] == \"6_3_18@g.cnees.kr\"]\n",
    "\n",
    "df_data_6_3_18.head()"
   ]
  },
  {
   "cell_type": "code",
   "execution_count": 53,
   "metadata": {},
   "outputs": [
    {
     "name": "stdout",
     "output_type": "stream",
     "text": [
      "{'시청기록': 1, '시청중': 82, '실행': 3, '중지': 4, '퀴즈/메시지 등장': 2, '퀴즈/메시지 응답': 2, '강의 평가 등장': 2, '강의 평가 제출': 1}\n"
     ]
    }
   ],
   "source": [
    "#6_3_18@g.cnees.kr의 verb 값\n",
    "\n",
    "df_data_6_3_18_verb_counts = {}\n",
    "\n",
    "for v in df_data_6_3_18['verb'].unique():\n",
    "    df_data_6_3_18_verb_counts[v] = len(df_data_6_3_18[df_data_6_3_18['verb'] == v])\n",
    "\n",
    "print(df_data_6_3_18_verb_counts)"
   ]
  },
  {
   "cell_type": "code",
   "execution_count": 60,
   "metadata": {},
   "outputs": [
    {
     "data": {
      "text/plain": [
       "['시청기록', '시청중', '실행', '중지', '퀴즈/메시지 등장', '퀴즈/메시지 응답', '강의 평가 등장', '강의 평가 제출']"
      ]
     },
     "execution_count": 60,
     "metadata": {},
     "output_type": "execute_result"
    }
   ],
   "source": [
    "#전체 데이터와 학생의 이름을 알게 되면, 자동으로 학생의 verb를 dic에 담는 함수\n",
    "\n",
    "list(df_data_6_3_18_verb_counts.keys())\n",
    "\n"
   ]
  },
  {
   "cell_type": "code",
   "execution_count": 61,
   "metadata": {},
   "outputs": [
    {
     "name": "stdout",
     "output_type": "stream",
     "text": [
      "{'시청기록': 1, '시청중': 82, '실행': 3, '중지': 4, '퀴즈/메시지 등장': 2, '퀴즈/메시지 응답': 2, '강의 평가 등장': 2, '강의 평가 제출': 1}\n"
     ]
    }
   ],
   "source": [
    "#학생별로 동사수를 정리해주는 함수\n",
    "\n",
    "def verb_counter(df_student):\n",
    "    dict = {}\n",
    "    for v in df_student['verb'].unique():\n",
    "        dict[v] = len(df_student[df_student['verb'] == v])\n",
    "\n",
    "    return dict\n",
    "\n",
    "\n",
    "verb_counter(df_data_6_3_18)"
   ]
  },
  {
   "cell_type": "code",
   "execution_count": 49,
   "metadata": {},
   "outputs": [
    {
     "data": {
      "text/plain": [
       "dict_keys(['시청기록', '시청중', '실행', '중지', '퀴즈/메시지 등장', '퀴즈/메시지 응답', '강의 평가 등장', '강의 평가 제출'])"
      ]
     },
     "execution_count": 49,
     "metadata": {},
     "output_type": "execute_result"
    }
   ],
   "source": [
    "import matplotlib.pyplot as plt\n",
    "\n",
    "import numpy as np\n",
    "\n",
    "#학생 26명\n",
    "X = students\n",
    "\n",
    "#['시청기록', '시청중', '실행', '중지', '퀴즈/메시지 등장', '퀴즈/메시지 응답', '강의 평가 등장', '강의 평가 제출']\n",
    "data1 = np.array([1,2,3,4])\n",
    "#시청중\n",
    "data2 = np.array([2,3,4,5])\n",
    "#실행\n",
    "data3 = np.array([3,4,5,6])\n",
    "#...\n",
    "\n",
    "\n",
    "\n",
    "df_data_6_3_18_verb_counts"
   ]
  },
  {
   "cell_type": "code",
   "execution_count": 43,
   "metadata": {},
   "outputs": [
    {
     "data": {
      "image/png": "[encoded data removed]",
      "text/plain": [
       "<Figure size 432x288 with 1 Axes>"
      ]
     },
     "metadata": {
      "needs_background": "light"
     },
     "output_type": "display_data"
    }
   ],
   "source": [
    "import matplotlib.pyplot as plt\n",
    "\n",
    "import numpy as np\n",
    "\n",
    "#X는 학생의 이름을 나중에 담기\n",
    "X=[1, 2, 3, 4]\n",
    "\n",
    "data1 = np.array([1,2,3,4])\n",
    "data2 = np.array([2,3,4,5])\n",
    "data3 = np.array([3,4,5,6])\n",
    "\n",
    "plt.bar(X, data1,color='r')\n",
    "plt.bar(X, data2,color='b',bottom=data1)\n",
    "plt.bar(X, data3,color='g',bottom=data1+data2)\n",
    "\n",
    "plt.show()"
   ]
  },
  {
   "cell_type": "markdown",
   "metadata": {},
   "source": [
    "### 3. 시간에 따른 분석"
   ]
  },
  {
   "cell_type": "code",
   "execution_count": 27,
   "metadata": {},
   "outputs": [
    {
     "data": {
      "text/html": [
       "<div>\n",
       "<style scoped>\n",
       "    .dataframe tbody tr th:only-of-type {\n",
       "        vertical-align: middle;\n",
       "    }\n",
       "\n",
       "    .dataframe tbody tr th {\n",
       "        vertical-align: top;\n",
       "    }\n",
       "\n",
       "    .dataframe thead th {\n",
       "        text-align: right;\n",
       "    }\n",
       "</style>\n",
       "<table border=\"1\" class=\"dataframe\">\n",
       "  <thead>\n",
       "    <tr style=\"text-align: right;\">\n",
       "      <th></th>\n",
       "      <th>actor</th>\n",
       "      <th>object</th>\n",
       "      <th>verb</th>\n",
       "      <th>timestamp</th>\n",
       "    </tr>\n",
       "  </thead>\n",
       "  <tbody>\n",
       "    <tr>\n",
       "      <th>128</th>\n",
       "      <td>qwertyuiop</td>\n",
       "      <td>삼양문화 진로교육연구원 영화로 떠나는 진로여행 첫 번째_그릿(GRIT)</td>\n",
       "      <td>시청기록</td>\n",
       "      <td>2021-12-15T08:55:26.244</td>\n",
       "    </tr>\n",
       "    <tr>\n",
       "      <th>131</th>\n",
       "      <td>qwertyuiop</td>\n",
       "      <td>삼양문화 진로교육연구원 영화로 떠나는 진로여행 첫 번째_그릿(GRIT)</td>\n",
       "      <td>시청중</td>\n",
       "      <td>2021-12-15T08:55:28.352</td>\n",
       "    </tr>\n",
       "    <tr>\n",
       "      <th>136</th>\n",
       "      <td>qwertyuiop</td>\n",
       "      <td>삼양문화 진로교육연구원 영화로 떠나는 진로여행 첫 번째_그릿(GRIT)</td>\n",
       "      <td>실행</td>\n",
       "      <td>2021-12-15T08:55:32.097</td>\n",
       "    </tr>\n",
       "    <tr>\n",
       "      <th>138</th>\n",
       "      <td>qwertyuiop</td>\n",
       "      <td>삼양문화 진로교육연구원 영화로 떠나는 진로여행 첫 번째_그릿(GRIT)</td>\n",
       "      <td>시청중</td>\n",
       "      <td>2021-12-15T08:55:33.388</td>\n",
       "    </tr>\n",
       "    <tr>\n",
       "      <th>140</th>\n",
       "      <td>qwertyuiop</td>\n",
       "      <td>삼양문화 진로교육연구원 영화로 떠나는 진로여행 첫 번째_그릿(GRIT)</td>\n",
       "      <td>시청중</td>\n",
       "      <td>2021-12-15T08:55:34.406</td>\n",
       "    </tr>\n",
       "  </tbody>\n",
       "</table>\n",
       "</div>"
      ],
      "text/plain": [
       "          actor                                   object  verb  \\\n",
       "128  qwertyuiop  삼양문화 진로교육연구원 영화로 떠나는 진로여행 첫 번째_그릿(GRIT)  시청기록   \n",
       "131  qwertyuiop  삼양문화 진로교육연구원 영화로 떠나는 진로여행 첫 번째_그릿(GRIT)   시청중   \n",
       "136  qwertyuiop  삼양문화 진로교육연구원 영화로 떠나는 진로여행 첫 번째_그릿(GRIT)    실행   \n",
       "138  qwertyuiop  삼양문화 진로교육연구원 영화로 떠나는 진로여행 첫 번째_그릿(GRIT)   시청중   \n",
       "140  qwertyuiop  삼양문화 진로교육연구원 영화로 떠나는 진로여행 첫 번째_그릿(GRIT)   시청중   \n",
       "\n",
       "                   timestamp  \n",
       "128  2021-12-15T08:55:26.244  \n",
       "131  2021-12-15T08:55:28.352  \n",
       "136  2021-12-15T08:55:32.097  \n",
       "138  2021-12-15T08:55:33.388  \n",
       "140  2021-12-15T08:55:34.406  "
      ]
     },
     "execution_count": 27,
     "metadata": {},
     "output_type": "execute_result"
    }
   ],
   "source": [
    "#두 학생의 시간을 기준으로 행동을 분석\n",
    "\n",
    "#시간을 기준으로 sort 해보기\n",
    "\n",
    "#qwertyuiop\n",
    "\n",
    "df_data_qwertyuiop.head()"
   ]
  },
  {
   "cell_type": "code",
   "execution_count": 28,
   "metadata": {},
   "outputs": [
    {
     "data": {
      "text/html": [
       "<div>\n",
       "<style scoped>\n",
       "    .dataframe tbody tr th:only-of-type {\n",
       "        vertical-align: middle;\n",
       "    }\n",
       "\n",
       "    .dataframe tbody tr th {\n",
       "        vertical-align: top;\n",
       "    }\n",
       "\n",
       "    .dataframe thead th {\n",
       "        text-align: right;\n",
       "    }\n",
       "</style>\n",
       "<table border=\"1\" class=\"dataframe\">\n",
       "  <thead>\n",
       "    <tr style=\"text-align: right;\">\n",
       "      <th></th>\n",
       "      <th>actor</th>\n",
       "      <th>object</th>\n",
       "      <th>verb</th>\n",
       "      <th>timestamp</th>\n",
       "    </tr>\n",
       "  </thead>\n",
       "  <tbody>\n",
       "    <tr>\n",
       "      <th>128</th>\n",
       "      <td>qwertyuiop</td>\n",
       "      <td>삼양문화 진로교육연구원 영화로 떠나는 진로여행 첫 번째_그릿(GRIT)</td>\n",
       "      <td>시청기록</td>\n",
       "      <td>2021-12-15T08:55:26.244</td>\n",
       "    </tr>\n",
       "    <tr>\n",
       "      <th>131</th>\n",
       "      <td>qwertyuiop</td>\n",
       "      <td>삼양문화 진로교육연구원 영화로 떠나는 진로여행 첫 번째_그릿(GRIT)</td>\n",
       "      <td>시청중</td>\n",
       "      <td>2021-12-15T08:55:28.352</td>\n",
       "    </tr>\n",
       "    <tr>\n",
       "      <th>136</th>\n",
       "      <td>qwertyuiop</td>\n",
       "      <td>삼양문화 진로교육연구원 영화로 떠나는 진로여행 첫 번째_그릿(GRIT)</td>\n",
       "      <td>실행</td>\n",
       "      <td>2021-12-15T08:55:32.097</td>\n",
       "    </tr>\n",
       "    <tr>\n",
       "      <th>138</th>\n",
       "      <td>qwertyuiop</td>\n",
       "      <td>삼양문화 진로교육연구원 영화로 떠나는 진로여행 첫 번째_그릿(GRIT)</td>\n",
       "      <td>시청중</td>\n",
       "      <td>2021-12-15T08:55:33.388</td>\n",
       "    </tr>\n",
       "    <tr>\n",
       "      <th>140</th>\n",
       "      <td>qwertyuiop</td>\n",
       "      <td>삼양문화 진로교육연구원 영화로 떠나는 진로여행 첫 번째_그릿(GRIT)</td>\n",
       "      <td>시청중</td>\n",
       "      <td>2021-12-15T08:55:34.406</td>\n",
       "    </tr>\n",
       "    <tr>\n",
       "      <th>...</th>\n",
       "      <td>...</td>\n",
       "      <td>...</td>\n",
       "      <td>...</td>\n",
       "      <td>...</td>\n",
       "    </tr>\n",
       "    <tr>\n",
       "      <th>24753</th>\n",
       "      <td>qwertyuiop</td>\n",
       "      <td>삼양문화 진로교육연구원 영화로 떠나는 진로여행 첫 번째_그릿(GRIT)</td>\n",
       "      <td>중지</td>\n",
       "      <td>2021-12-15T09:35:18.970</td>\n",
       "    </tr>\n",
       "    <tr>\n",
       "      <th>24754</th>\n",
       "      <td>qwertyuiop</td>\n",
       "      <td>삼양문화 진로교육연구원 영화로 떠나는 진로여행 첫 번째_그릿(GRIT)</td>\n",
       "      <td>강의 평가 등장</td>\n",
       "      <td>2021-12-15T09:35:18.980</td>\n",
       "    </tr>\n",
       "    <tr>\n",
       "      <th>24756</th>\n",
       "      <td>qwertyuiop</td>\n",
       "      <td>삼양문화 진로교육연구원 영화로 떠나는 진로여행 첫 번째_그릿(GRIT)</td>\n",
       "      <td>강의 평가 제출</td>\n",
       "      <td>2021-12-15T09:35:19.084</td>\n",
       "    </tr>\n",
       "    <tr>\n",
       "      <th>28765</th>\n",
       "      <td>qwertyuiop</td>\n",
       "      <td>삼양문화 진로교육연구원 영화로 떠나는 진로여행 첫 번째_그릿(GRIT)</td>\n",
       "      <td>시청중</td>\n",
       "      <td>2021-12-15T11:20:56.341</td>\n",
       "    </tr>\n",
       "    <tr>\n",
       "      <th>28766</th>\n",
       "      <td>qwertyuiop</td>\n",
       "      <td>삼양문화 진로교육연구원 영화로 떠나는 진로여행 첫 번째_그릿(GRIT)</td>\n",
       "      <td>시청중</td>\n",
       "      <td>2021-12-15T11:20:57.637</td>\n",
       "    </tr>\n",
       "  </tbody>\n",
       "</table>\n",
       "<p>1831 rows × 4 columns</p>\n",
       "</div>"
      ],
      "text/plain": [
       "            actor                                   object      verb  \\\n",
       "128    qwertyuiop  삼양문화 진로교육연구원 영화로 떠나는 진로여행 첫 번째_그릿(GRIT)      시청기록   \n",
       "131    qwertyuiop  삼양문화 진로교육연구원 영화로 떠나는 진로여행 첫 번째_그릿(GRIT)       시청중   \n",
       "136    qwertyuiop  삼양문화 진로교육연구원 영화로 떠나는 진로여행 첫 번째_그릿(GRIT)        실행   \n",
       "138    qwertyuiop  삼양문화 진로교육연구원 영화로 떠나는 진로여행 첫 번째_그릿(GRIT)       시청중   \n",
       "140    qwertyuiop  삼양문화 진로교육연구원 영화로 떠나는 진로여행 첫 번째_그릿(GRIT)       시청중   \n",
       "...           ...                                      ...       ...   \n",
       "24753  qwertyuiop  삼양문화 진로교육연구원 영화로 떠나는 진로여행 첫 번째_그릿(GRIT)        중지   \n",
       "24754  qwertyuiop  삼양문화 진로교육연구원 영화로 떠나는 진로여행 첫 번째_그릿(GRIT)  강의 평가 등장   \n",
       "24756  qwertyuiop  삼양문화 진로교육연구원 영화로 떠나는 진로여행 첫 번째_그릿(GRIT)  강의 평가 제출   \n",
       "28765  qwertyuiop  삼양문화 진로교육연구원 영화로 떠나는 진로여행 첫 번째_그릿(GRIT)       시청중   \n",
       "28766  qwertyuiop  삼양문화 진로교육연구원 영화로 떠나는 진로여행 첫 번째_그릿(GRIT)       시청중   \n",
       "\n",
       "                     timestamp  \n",
       "128    2021-12-15T08:55:26.244  \n",
       "131    2021-12-15T08:55:28.352  \n",
       "136    2021-12-15T08:55:32.097  \n",
       "138    2021-12-15T08:55:33.388  \n",
       "140    2021-12-15T08:55:34.406  \n",
       "...                        ...  \n",
       "24753  2021-12-15T09:35:18.970  \n",
       "24754  2021-12-15T09:35:18.980  \n",
       "24756  2021-12-15T09:35:19.084  \n",
       "28765  2021-12-15T11:20:56.341  \n",
       "28766  2021-12-15T11:20:57.637  \n",
       "\n",
       "[1831 rows x 4 columns]"
      ]
     },
     "execution_count": 28,
     "metadata": {},
     "output_type": "execute_result"
    }
   ],
   "source": [
    "#qwertyuiop의 데이터를 시간을 기준으로 sort함\n",
    "\n",
    "df_sort_data_qwertyuiop = df_data_qwertyuiop.sort_values(by = 'timestamp')\n",
    "\n",
    "df_sort_data_qwertyuiop"
   ]
  },
  {
   "cell_type": "code",
   "execution_count": 29,
   "metadata": {},
   "outputs": [
    {
     "data": {
      "text/html": [
       "<div>\n",
       "<style scoped>\n",
       "    .dataframe tbody tr th:only-of-type {\n",
       "        vertical-align: middle;\n",
       "    }\n",
       "\n",
       "    .dataframe tbody tr th {\n",
       "        vertical-align: top;\n",
       "    }\n",
       "\n",
       "    .dataframe thead th {\n",
       "        text-align: right;\n",
       "    }\n",
       "</style>\n",
       "<table border=\"1\" class=\"dataframe\">\n",
       "  <thead>\n",
       "    <tr style=\"text-align: right;\">\n",
       "      <th></th>\n",
       "      <th>actor</th>\n",
       "      <th>object</th>\n",
       "      <th>verb</th>\n",
       "      <th>timestamp</th>\n",
       "    </tr>\n",
       "  </thead>\n",
       "  <tbody>\n",
       "    <tr>\n",
       "      <th>128</th>\n",
       "      <td>qwertyuiop</td>\n",
       "      <td>삼양문화 진로교육연구원 영화로 떠나는 진로여행 첫 번째_그릿(GRIT)</td>\n",
       "      <td>1</td>\n",
       "      <td>2021-12-15T08:55:26.244</td>\n",
       "    </tr>\n",
       "    <tr>\n",
       "      <th>131</th>\n",
       "      <td>qwertyuiop</td>\n",
       "      <td>삼양문화 진로교육연구원 영화로 떠나는 진로여행 첫 번째_그릿(GRIT)</td>\n",
       "      <td>2</td>\n",
       "      <td>2021-12-15T08:55:28.352</td>\n",
       "    </tr>\n",
       "    <tr>\n",
       "      <th>136</th>\n",
       "      <td>qwertyuiop</td>\n",
       "      <td>삼양문화 진로교육연구원 영화로 떠나는 진로여행 첫 번째_그릿(GRIT)</td>\n",
       "      <td>3</td>\n",
       "      <td>2021-12-15T08:55:32.097</td>\n",
       "    </tr>\n",
       "    <tr>\n",
       "      <th>138</th>\n",
       "      <td>qwertyuiop</td>\n",
       "      <td>삼양문화 진로교육연구원 영화로 떠나는 진로여행 첫 번째_그릿(GRIT)</td>\n",
       "      <td>2</td>\n",
       "      <td>2021-12-15T08:55:33.388</td>\n",
       "    </tr>\n",
       "    <tr>\n",
       "      <th>140</th>\n",
       "      <td>qwertyuiop</td>\n",
       "      <td>삼양문화 진로교육연구원 영화로 떠나는 진로여행 첫 번째_그릿(GRIT)</td>\n",
       "      <td>2</td>\n",
       "      <td>2021-12-15T08:55:34.406</td>\n",
       "    </tr>\n",
       "  </tbody>\n",
       "</table>\n",
       "</div>"
      ],
      "text/plain": [
       "          actor                                   object  verb  \\\n",
       "128  qwertyuiop  삼양문화 진로교육연구원 영화로 떠나는 진로여행 첫 번째_그릿(GRIT)     1   \n",
       "131  qwertyuiop  삼양문화 진로교육연구원 영화로 떠나는 진로여행 첫 번째_그릿(GRIT)     2   \n",
       "136  qwertyuiop  삼양문화 진로교육연구원 영화로 떠나는 진로여행 첫 번째_그릿(GRIT)     3   \n",
       "138  qwertyuiop  삼양문화 진로교육연구원 영화로 떠나는 진로여행 첫 번째_그릿(GRIT)     2   \n",
       "140  qwertyuiop  삼양문화 진로교육연구원 영화로 떠나는 진로여행 첫 번째_그릿(GRIT)     2   \n",
       "\n",
       "                   timestamp  \n",
       "128  2021-12-15T08:55:26.244  \n",
       "131  2021-12-15T08:55:28.352  \n",
       "136  2021-12-15T08:55:32.097  \n",
       "138  2021-12-15T08:55:33.388  \n",
       "140  2021-12-15T08:55:34.406  "
      ]
     },
     "execution_count": 29,
     "metadata": {},
     "output_type": "execute_result"
    }
   ],
   "source": [
    "# imshow를 통해 verb를 선형으로 보여주려함\n",
    "\n",
    "# 먼저, 각 verb를 숫자로 대치해야 함\n",
    "# '시청기록': 1, '시청중': 2, '실행': 3, '중지': 4, '퀴즈/메시지 등장': 5, '퀴즈/메시지 응답': 6, '강의 평가 등장': 7, '강의 평가 제출': 8, '재생바 클릭': 9\n",
    "\n",
    "# replace\n",
    "df_sort_data_qwertyuiop.replace({\n",
    "    '시청기록': 1,\n",
    "    '시청중': 2,\n",
    "    '실행': 3,\n",
    "    '중지': 4,\n",
    "    '퀴즈/메시지 등장': 5,\n",
    "    '퀴즈/메시지 응답': 6,\n",
    "    '강의 평가 등장': 7,\n",
    "    '강의 평가 제출': 8,\n",
    "    '재생바 클릭': 9\n",
    "}, inplace= True)\n",
    "\n",
    "df_sort_data_qwertyuiop.head()"
   ]
  },
  {
   "cell_type": "code",
   "execution_count": 30,
   "metadata": {},
   "outputs": [
    {
     "data": {
      "text/html": [
       "<div>\n",
       "<style scoped>\n",
       "    .dataframe tbody tr th:only-of-type {\n",
       "        vertical-align: middle;\n",
       "    }\n",
       "\n",
       "    .dataframe tbody tr th {\n",
       "        vertical-align: top;\n",
       "    }\n",
       "\n",
       "    .dataframe thead th {\n",
       "        text-align: right;\n",
       "    }\n",
       "</style>\n",
       "<table border=\"1\" class=\"dataframe\">\n",
       "  <thead>\n",
       "    <tr style=\"text-align: right;\">\n",
       "      <th></th>\n",
       "      <th>actor</th>\n",
       "      <th>object</th>\n",
       "      <th>verb</th>\n",
       "      <th>timestamp</th>\n",
       "    </tr>\n",
       "  </thead>\n",
       "  <tbody>\n",
       "    <tr>\n",
       "      <th>14551</th>\n",
       "      <td>6_3_18@g.cnees.kr</td>\n",
       "      <td>삼양문화 진로교육연구원 영화로 떠나는 진로여행 첫 번째_그릿(GRIT)</td>\n",
       "      <td>시청기록</td>\n",
       "      <td>2021-12-15T09:16:16.968</td>\n",
       "    </tr>\n",
       "    <tr>\n",
       "      <th>14590</th>\n",
       "      <td>6_3_18@g.cnees.kr</td>\n",
       "      <td>삼양문화 진로교육연구원 영화로 떠나는 진로여행 첫 번째_그릿(GRIT)</td>\n",
       "      <td>시청중</td>\n",
       "      <td>2021-12-15T09:16:19.235</td>\n",
       "    </tr>\n",
       "    <tr>\n",
       "      <th>14661</th>\n",
       "      <td>6_3_18@g.cnees.kr</td>\n",
       "      <td>삼양문화 진로교육연구원 영화로 떠나는 진로여행 첫 번째_그릿(GRIT)</td>\n",
       "      <td>실행</td>\n",
       "      <td>2021-12-15T09:16:23.151</td>\n",
       "    </tr>\n",
       "    <tr>\n",
       "      <th>14721</th>\n",
       "      <td>6_3_18@g.cnees.kr</td>\n",
       "      <td>삼양문화 진로교육연구원 영화로 떠나는 진로여행 첫 번째_그릿(GRIT)</td>\n",
       "      <td>시청중</td>\n",
       "      <td>2021-12-15T09:16:26.272</td>\n",
       "    </tr>\n",
       "    <tr>\n",
       "      <th>14741</th>\n",
       "      <td>6_3_18@g.cnees.kr</td>\n",
       "      <td>삼양문화 진로교육연구원 영화로 떠나는 진로여행 첫 번째_그릿(GRIT)</td>\n",
       "      <td>시청중</td>\n",
       "      <td>2021-12-15T09:16:27.284</td>\n",
       "    </tr>\n",
       "    <tr>\n",
       "      <th>...</th>\n",
       "      <td>...</td>\n",
       "      <td>...</td>\n",
       "      <td>...</td>\n",
       "      <td>...</td>\n",
       "    </tr>\n",
       "    <tr>\n",
       "      <th>17159</th>\n",
       "      <td>6_3_18@g.cnees.kr</td>\n",
       "      <td>삼양문화 진로교육연구원 영화로 떠나는 진로여행 첫 번째_그릿(GRIT)</td>\n",
       "      <td>강의 평가 등장</td>\n",
       "      <td>2021-12-15T09:18:36.511</td>\n",
       "    </tr>\n",
       "    <tr>\n",
       "      <th>17160</th>\n",
       "      <td>6_3_18@g.cnees.kr</td>\n",
       "      <td>삼양문화 진로교육연구원 영화로 떠나는 진로여행 첫 번째_그릿(GRIT)</td>\n",
       "      <td>중지</td>\n",
       "      <td>2021-12-15T09:18:36.512</td>\n",
       "    </tr>\n",
       "    <tr>\n",
       "      <th>17177</th>\n",
       "      <td>6_3_18@g.cnees.kr</td>\n",
       "      <td>삼양문화 진로교육연구원 영화로 떠나는 진로여행 첫 번째_그릿(GRIT)</td>\n",
       "      <td>강의 평가 등장</td>\n",
       "      <td>2021-12-15T09:18:37.538</td>\n",
       "    </tr>\n",
       "    <tr>\n",
       "      <th>17178</th>\n",
       "      <td>6_3_18@g.cnees.kr</td>\n",
       "      <td>삼양문화 진로교육연구원 영화로 떠나는 진로여행 첫 번째_그릿(GRIT)</td>\n",
       "      <td>중지</td>\n",
       "      <td>2021-12-15T09:18:37.538</td>\n",
       "    </tr>\n",
       "    <tr>\n",
       "      <th>17233</th>\n",
       "      <td>6_3_18@g.cnees.kr</td>\n",
       "      <td>삼양문화 진로교육연구원 영화로 떠나는 진로여행 첫 번째_그릿(GRIT)</td>\n",
       "      <td>강의 평가 제출</td>\n",
       "      <td>2021-12-15T09:18:40.463</td>\n",
       "    </tr>\n",
       "  </tbody>\n",
       "</table>\n",
       "<p>97 rows × 4 columns</p>\n",
       "</div>"
      ],
      "text/plain": [
       "                   actor                                   object      verb  \\\n",
       "14551  6_3_18@g.cnees.kr  삼양문화 진로교육연구원 영화로 떠나는 진로여행 첫 번째_그릿(GRIT)      시청기록   \n",
       "14590  6_3_18@g.cnees.kr  삼양문화 진로교육연구원 영화로 떠나는 진로여행 첫 번째_그릿(GRIT)       시청중   \n",
       "14661  6_3_18@g.cnees.kr  삼양문화 진로교육연구원 영화로 떠나는 진로여행 첫 번째_그릿(GRIT)        실행   \n",
       "14721  6_3_18@g.cnees.kr  삼양문화 진로교육연구원 영화로 떠나는 진로여행 첫 번째_그릿(GRIT)       시청중   \n",
       "14741  6_3_18@g.cnees.kr  삼양문화 진로교육연구원 영화로 떠나는 진로여행 첫 번째_그릿(GRIT)       시청중   \n",
       "...                  ...                                      ...       ...   \n",
       "17159  6_3_18@g.cnees.kr  삼양문화 진로교육연구원 영화로 떠나는 진로여행 첫 번째_그릿(GRIT)  강의 평가 등장   \n",
       "17160  6_3_18@g.cnees.kr  삼양문화 진로교육연구원 영화로 떠나는 진로여행 첫 번째_그릿(GRIT)        중지   \n",
       "17177  6_3_18@g.cnees.kr  삼양문화 진로교육연구원 영화로 떠나는 진로여행 첫 번째_그릿(GRIT)  강의 평가 등장   \n",
       "17178  6_3_18@g.cnees.kr  삼양문화 진로교육연구원 영화로 떠나는 진로여행 첫 번째_그릿(GRIT)        중지   \n",
       "17233  6_3_18@g.cnees.kr  삼양문화 진로교육연구원 영화로 떠나는 진로여행 첫 번째_그릿(GRIT)  강의 평가 제출   \n",
       "\n",
       "                     timestamp  \n",
       "14551  2021-12-15T09:16:16.968  \n",
       "14590  2021-12-15T09:16:19.235  \n",
       "14661  2021-12-15T09:16:23.151  \n",
       "14721  2021-12-15T09:16:26.272  \n",
       "14741  2021-12-15T09:16:27.284  \n",
       "...                        ...  \n",
       "17159  2021-12-15T09:18:36.511  \n",
       "17160  2021-12-15T09:18:36.512  \n",
       "17177  2021-12-15T09:18:37.538  \n",
       "17178  2021-12-15T09:18:37.538  \n",
       "17233  2021-12-15T09:18:40.463  \n",
       "\n",
       "[97 rows x 4 columns]"
      ]
     },
     "execution_count": 30,
     "metadata": {},
     "output_type": "execute_result"
    }
   ],
   "source": [
    "#6_3_18@g.cnees.kr의 데이터를 시간을 기준으로 sort함\n",
    "\n",
    "df_sort_data_6_3_18 = df_data_6_3_18.sort_values(by = 'timestamp')\n",
    "\n",
    "df_sort_data_6_3_18"
   ]
  },
  {
   "cell_type": "code",
   "execution_count": 31,
   "metadata": {},
   "outputs": [
    {
     "data": {
      "text/html": [
       "<div>\n",
       "<style scoped>\n",
       "    .dataframe tbody tr th:only-of-type {\n",
       "        vertical-align: middle;\n",
       "    }\n",
       "\n",
       "    .dataframe tbody tr th {\n",
       "        vertical-align: top;\n",
       "    }\n",
       "\n",
       "    .dataframe thead th {\n",
       "        text-align: right;\n",
       "    }\n",
       "</style>\n",
       "<table border=\"1\" class=\"dataframe\">\n",
       "  <thead>\n",
       "    <tr style=\"text-align: right;\">\n",
       "      <th></th>\n",
       "      <th>actor</th>\n",
       "      <th>object</th>\n",
       "      <th>verb</th>\n",
       "      <th>timestamp</th>\n",
       "    </tr>\n",
       "  </thead>\n",
       "  <tbody>\n",
       "    <tr>\n",
       "      <th>14551</th>\n",
       "      <td>6_3_18@g.cnees.kr</td>\n",
       "      <td>삼양문화 진로교육연구원 영화로 떠나는 진로여행 첫 번째_그릿(GRIT)</td>\n",
       "      <td>1</td>\n",
       "      <td>2021-12-15T09:16:16.968</td>\n",
       "    </tr>\n",
       "    <tr>\n",
       "      <th>14590</th>\n",
       "      <td>6_3_18@g.cnees.kr</td>\n",
       "      <td>삼양문화 진로교육연구원 영화로 떠나는 진로여행 첫 번째_그릿(GRIT)</td>\n",
       "      <td>2</td>\n",
       "      <td>2021-12-15T09:16:19.235</td>\n",
       "    </tr>\n",
       "    <tr>\n",
       "      <th>14661</th>\n",
       "      <td>6_3_18@g.cnees.kr</td>\n",
       "      <td>삼양문화 진로교육연구원 영화로 떠나는 진로여행 첫 번째_그릿(GRIT)</td>\n",
       "      <td>3</td>\n",
       "      <td>2021-12-15T09:16:23.151</td>\n",
       "    </tr>\n",
       "    <tr>\n",
       "      <th>14721</th>\n",
       "      <td>6_3_18@g.cnees.kr</td>\n",
       "      <td>삼양문화 진로교육연구원 영화로 떠나는 진로여행 첫 번째_그릿(GRIT)</td>\n",
       "      <td>2</td>\n",
       "      <td>2021-12-15T09:16:26.272</td>\n",
       "    </tr>\n",
       "    <tr>\n",
       "      <th>14741</th>\n",
       "      <td>6_3_18@g.cnees.kr</td>\n",
       "      <td>삼양문화 진로교육연구원 영화로 떠나는 진로여행 첫 번째_그릿(GRIT)</td>\n",
       "      <td>2</td>\n",
       "      <td>2021-12-15T09:16:27.284</td>\n",
       "    </tr>\n",
       "  </tbody>\n",
       "</table>\n",
       "</div>"
      ],
      "text/plain": [
       "                   actor                                   object  verb  \\\n",
       "14551  6_3_18@g.cnees.kr  삼양문화 진로교육연구원 영화로 떠나는 진로여행 첫 번째_그릿(GRIT)     1   \n",
       "14590  6_3_18@g.cnees.kr  삼양문화 진로교육연구원 영화로 떠나는 진로여행 첫 번째_그릿(GRIT)     2   \n",
       "14661  6_3_18@g.cnees.kr  삼양문화 진로교육연구원 영화로 떠나는 진로여행 첫 번째_그릿(GRIT)     3   \n",
       "14721  6_3_18@g.cnees.kr  삼양문화 진로교육연구원 영화로 떠나는 진로여행 첫 번째_그릿(GRIT)     2   \n",
       "14741  6_3_18@g.cnees.kr  삼양문화 진로교육연구원 영화로 떠나는 진로여행 첫 번째_그릿(GRIT)     2   \n",
       "\n",
       "                     timestamp  \n",
       "14551  2021-12-15T09:16:16.968  \n",
       "14590  2021-12-15T09:16:19.235  \n",
       "14661  2021-12-15T09:16:23.151  \n",
       "14721  2021-12-15T09:16:26.272  \n",
       "14741  2021-12-15T09:16:27.284  "
      ]
     },
     "execution_count": 31,
     "metadata": {},
     "output_type": "execute_result"
    }
   ],
   "source": [
    "#6_3_18@g.cnees.kr\n",
    "df_sort_data_6_3_18.replace({\n",
    "    '시청기록': 1,\n",
    "    '시청중': 2,\n",
    "    '실행': 3,\n",
    "    '중지': 4,\n",
    "    '퀴즈/메시지 등장': 5,\n",
    "    '퀴즈/메시지 응답': 6,\n",
    "    '강의 평가 등장': 7,\n",
    "    '강의 평가 제출': 8,\n",
    "    '재생바 클릭': 9\n",
    "}, inplace= True)\n",
    "\n",
    "df_sort_data_6_3_18.head()"
   ]
  },
  {
   "cell_type": "code",
   "execution_count": 32,
   "metadata": {},
   "outputs": [
    {
     "data": {
      "image/png": "[encoded data removed]",
      "text/plain": [
       "<Figure size 5760x360 with 1 Axes>"
      ]
     },
     "metadata": {
      "needs_background": "light"
     },
     "output_type": "display_data"
    }
   ],
   "source": [
    "#qwertyuiop의 시간별 행동 시각화\n",
    "plt.figure(figsize = (80, 5))\n",
    "plt.imshow([\n",
    "    df_sort_data_qwertyuiop['verb'],\n",
    "],  \n",
    "interpolation = 'nearest',\n",
    "aspect = 'auto',\n",
    "cmap = 'inferno'\n",
    ")\n",
    "plt.show()"
   ]
  },
  {
   "cell_type": "code",
   "execution_count": 33,
   "metadata": {},
   "outputs": [
    {
     "data": {
      "image/png": "[encoded data removed]",
      "text/plain": [
       "<Figure size 5760x360 with 1 Axes>"
      ]
     },
     "metadata": {
      "needs_background": "light"
     },
     "output_type": "display_data"
    }
   ],
   "source": [
    "#6_3_18@g.cnees.kr 시간별 행동 시각화\n",
    "plt.figure(figsize = (80, 5))\n",
    "plt.imshow([\n",
    "    df_sort_data_6_3_18['verb'],\n",
    "],  \n",
    "interpolation = 'nearest',\n",
    "aspect = 'auto'\n",
    ")\n",
    "plt.show()"
   ]
  },
  {
   "cell_type": "code",
   "execution_count": 34,
   "metadata": {},
   "outputs": [
    {
     "name": "stdout",
     "output_type": "stream",
     "text": [
      "1831\n",
      "97\n"
     ]
    }
   ],
   "source": [
    "print(len(df_sort_data_qwertyuiop['verb'].tolist()))\n",
    "\n",
    "print(len(df_sort_data_6_3_18['verb'].tolist()))"
   ]
  },
  {
   "cell_type": "code",
   "execution_count": 35,
   "metadata": {},
   "outputs": [
    {
     "data": {
      "image/png": "[encoded data removed]",
      "text/plain": [
       "<Figure size 5760x360 with 1 Axes>"
      ]
     },
     "metadata": {
      "needs_background": "light"
     },
     "output_type": "display_data"
    }
   ],
   "source": [
    "#동시에 놓고 비교하려면 크기가 다른 데이터를 크기를 같게 맞춰야 함, 뒤에 0을 넣기(concat)\n",
    "#코드가 정리가 되지 않았지만, 예시로 아래와 같이 처리할 수 있음\n",
    "\n",
    "need_add = len(df_sort_data_qwertyuiop['verb'].tolist()) - len(df_sort_data_6_3_18['verb'].tolist())\n",
    "\n",
    "sort_list = [\n",
    "    df_sort_data_qwertyuiop['verb'].tolist(),\n",
    "    df_sort_data_6_3_18['verb'].tolist() + np.zeros(need_add).astype(int).tolist()\n",
    "]\n",
    "\n",
    "plt.figure(figsize = (80, 5))\n",
    "plt.imshow(sort_list,  \n",
    "interpolation = 'nearest',\n",
    "aspect = 'auto'\n",
    ")\n",
    "plt.show()\n",
    "\n",
    "#수정할때\n",
    "#가장 길이가 긴 리스트를 먼저 찾기\n",
    "#가장 길이가 긴 리스트의 원소 갯수 파악하기\n",
    "#다른 리스트와 해당 리스트의 차를 구해서, 부족한만큼 뒤에 0을 붙이기"
   ]
  },
  {
   "cell_type": "markdown",
   "metadata": {},
   "source": [
    "### 4. ML model examples"
   ]
  },
  {
   "cell_type": "markdown",
   "metadata": {},
   "source": [
    "그리 많은 데이터가 있는 것은 아니기에, 큰 의미는 없지만, 예시로서 활용하기 바람"
   ]
  },
  {
   "cell_type": "markdown",
   "metadata": {},
   "source": [
    "{'시청기록': 1, '시청중': 82, '실행': 3, '중지': 4, '퀴즈/메시지 등장': 2, '퀴즈/메시지 응답': 2, '강의 평가 등장': 2, '강의 평가 제출': 1}으로 예측 가능한지 일단 돌려보기\n",
    "\n",
    "종속변수는 성실도 상, 중, 하를 임의로 설정하고 해보기(사람이 성실도 기입)"
   ]
  },
  {
   "cell_type": "code",
   "execution_count": 28,
   "metadata": {},
   "outputs": [
    {
     "name": "stdout",
     "output_type": "stream",
     "text": [
      "['qwertyuiop', '6_3_2@g.cnees.kr', 'bonhyuk', '6_3_5@g.cnees.kr', 'kfc', 'npe#31', '6_3_13@g.cnees.kr', '6_3_27@g.cnees.kr', '6_3_8@g.cnees.kr', '6_3_17@g.cnees.kr', '임세현', '정윤석', '6_3_19@g.cnees.kr', '6_3_11@g.cnees.kr', '6_3_1@g.cnees.kr', '6_3_12@g.cnees.kr', 'g.cnees.kr', '6_3_6@g.cnees.kr', '안성민', 'eunhalim0908', '6_3_9_2@g.cnees.kr', '6_3_14@g.cnees.kr', 'jisu0512', '6_3_20@g.cnees.kr', '6_3_26@g.cnees.kr', '6_3_18@g.cnees.kr', 'average']\n"
     ]
    }
   ],
   "source": [
    "print(students)"
   ]
  },
  {
   "cell_type": "code",
   "execution_count": 29,
   "metadata": {},
   "outputs": [
    {
     "name": "stdout",
     "output_type": "stream",
     "text": [
      "[[], [], [], [], [], [], [], [], []]\n",
      "['시청기록' '시청중' '실행' '중지' '퀴즈/메시지 등장' '퀴즈/메시지 응답' '재생바 클릭' '강의 평가 등장'\n",
      " '강의 평가 제출']\n",
      "[[1, 3, 1, 1, 1, 2, 1, 1, 3, 2, 2, 1, 3, 1, 1, 1, 2, 1, 1, 1, 1, 1, 2, 2, 1, 1], [1216, 1800, 1195, 1198, 1200, 1203, 712, 1197, 1590, 1236, 1195, 1197, 1085, 950, 1215, 1194, 1028, 144, 1195, 624, 941, 82, 681, 606, 1237, 1206], [3, 7, 47, 48, 7, 17, 3, 9, 7, 25, 8, 6, 10, 6, 21, 3, 5, 3, 11, 5, 13, 3, 7, 7, 5, 26], [4, 7, 91, 91, 10, 31, 4, 14, 4, 47, 16, 9, 8, 7, 24, 2, 7, 4, 19, 9, 22, 4, 6, 8, 8, 49], [2, 3, 2, 2, 2, 3, 2, 2, 4, 3, 2, 2, 3, 2, 2, 2, 2, 2, 2, 2, 2, 2, 4, 4, 2, 2], [2, 3, 2, 2, 2, 3, 2, 2, 4, 3, 2, 2, 3, 2, 2, 2, 2, 2, 2, 2, 2, 2, 3, 3, 2, 2], [0, 2, 0, 0, 0, 1, 0, 0, 2, 1, 1, 0, 2, 0, 0, 0, 0, 0, 0, 0, 0, 0, 1, 1, 0, 0], [2, 4, 89, 87, 6, 27, 2, 10, 0, 43, 14, 6, 1, 2, 6, 0, 4, 2, 16, 7, 18, 2, 0, 2, 6, 44], [1, 2, 49, 56, 2, 16, 1, 5, 0, 22, 7, 2, 1, 1, 2, 0, 2, 1, 7, 4, 11, 1, 0, 1, 3, 29]]\n",
      "26\n"
     ]
    }
   ],
   "source": [
    "#그냥 순서에 맞게 리스트로 변수 할당하면 됨\n",
    "\n",
    "#빈 리스트 만들기\n",
    "features = [ [] for i in range(len(df_data_clean['verb'].unique()))]\n",
    "\n",
    "print(features)\n",
    "\n",
    "df_data_clean_unique = df_data_clean['verb'].unique()\n",
    "\n",
    "print(df_data_clean_unique)\n",
    "\n",
    "for actor_unique in df_data_clean['actor'].unique():\n",
    "\n",
    "    df_actor = df_data_clean[df_data_clean['actor'] == actor_unique]\n",
    "\n",
    "    for i, verb_unique in enumerate(df_data_clean['verb'].unique()):\n",
    "        features[i].append(len(df_actor[df_actor['verb'] == df_data_clean_unique[i]]))\n",
    "\n",
    "print(features)\n",
    "\n",
    "print(len(features[0]))"
   ]
  },
  {
   "cell_type": "code",
   "execution_count": 30,
   "metadata": {},
   "outputs": [
    {
     "name": "stdout",
     "output_type": "stream",
     "text": [
      "[[1, 3, 1, 1, 1, 2, 1, 1, 3, 2, 2, 1, 3, 1, 1, 1, 2, 1, 1, 1, 1, 1, 2, 2, 1, 1], [1216, 1800, 1195, 1198, 1200, 1203, 712, 1197, 1590, 1236, 1195, 1197, 1085, 950, 1215, 1194, 1028, 144, 1195, 624, 941, 82, 681, 606, 1237, 1206], [3, 7, 47, 48, 7, 17, 3, 9, 7, 25, 8, 6, 10, 6, 21, 3, 5, 3, 11, 5, 13, 3, 7, 7, 5, 26], [4, 7, 91, 91, 10, 31, 4, 14, 4, 47, 16, 9, 8, 7, 24, 2, 7, 4, 19, 9, 22, 4, 6, 8, 8, 49], [2, 3, 2, 2, 2, 3, 2, 2, 4, 3, 2, 2, 3, 2, 2, 2, 2, 2, 2, 2, 2, 2, 4, 4, 2, 2], [2, 3, 2, 2, 2, 3, 2, 2, 4, 3, 2, 2, 3, 2, 2, 2, 2, 2, 2, 2, 2, 2, 3, 3, 2, 2], [0, 2, 0, 0, 0, 1, 0, 0, 2, 1, 1, 0, 2, 0, 0, 0, 0, 0, 0, 0, 0, 0, 1, 1, 0, 0], [2, 4, 89, 87, 6, 27, 2, 10, 0, 43, 14, 6, 1, 2, 6, 0, 4, 2, 16, 7, 18, 2, 0, 2, 6, 44], [1, 2, 49, 56, 2, 16, 1, 5, 0, 22, 7, 2, 1, 1, 2, 0, 2, 1, 7, 4, 11, 1, 0, 1, 3, 29], [3, 2, 2, 2, 2, 2, 3, 3, 2, 2, 2, 2, 3, 3, 3, 1, 2, 3, 1, 2, 2, 1, 2, 1, 1, 1]]\n"
     ]
    },
    {
     "data": {
      "text/html": [
       "<div>\n",
       "<style scoped>\n",
       "    .dataframe tbody tr th:only-of-type {\n",
       "        vertical-align: middle;\n",
       "    }\n",
       "\n",
       "    .dataframe tbody tr th {\n",
       "        vertical-align: top;\n",
       "    }\n",
       "\n",
       "    .dataframe thead th {\n",
       "        text-align: right;\n",
       "    }\n",
       "</style>\n",
       "<table border=\"1\" class=\"dataframe\">\n",
       "  <thead>\n",
       "    <tr style=\"text-align: right;\">\n",
       "      <th></th>\n",
       "      <th>0</th>\n",
       "      <th>1</th>\n",
       "      <th>2</th>\n",
       "      <th>3</th>\n",
       "      <th>4</th>\n",
       "      <th>5</th>\n",
       "      <th>6</th>\n",
       "      <th>7</th>\n",
       "      <th>8</th>\n",
       "      <th>9</th>\n",
       "    </tr>\n",
       "  </thead>\n",
       "  <tbody>\n",
       "    <tr>\n",
       "      <th>0</th>\n",
       "      <td>1</td>\n",
       "      <td>1216</td>\n",
       "      <td>3</td>\n",
       "      <td>4</td>\n",
       "      <td>2</td>\n",
       "      <td>2</td>\n",
       "      <td>0</td>\n",
       "      <td>2</td>\n",
       "      <td>1</td>\n",
       "      <td>3</td>\n",
       "    </tr>\n",
       "    <tr>\n",
       "      <th>1</th>\n",
       "      <td>3</td>\n",
       "      <td>1800</td>\n",
       "      <td>7</td>\n",
       "      <td>7</td>\n",
       "      <td>3</td>\n",
       "      <td>3</td>\n",
       "      <td>2</td>\n",
       "      <td>4</td>\n",
       "      <td>2</td>\n",
       "      <td>2</td>\n",
       "    </tr>\n",
       "    <tr>\n",
       "      <th>2</th>\n",
       "      <td>1</td>\n",
       "      <td>1195</td>\n",
       "      <td>47</td>\n",
       "      <td>91</td>\n",
       "      <td>2</td>\n",
       "      <td>2</td>\n",
       "      <td>0</td>\n",
       "      <td>89</td>\n",
       "      <td>49</td>\n",
       "      <td>2</td>\n",
       "    </tr>\n",
       "    <tr>\n",
       "      <th>3</th>\n",
       "      <td>1</td>\n",
       "      <td>1198</td>\n",
       "      <td>48</td>\n",
       "      <td>91</td>\n",
       "      <td>2</td>\n",
       "      <td>2</td>\n",
       "      <td>0</td>\n",
       "      <td>87</td>\n",
       "      <td>56</td>\n",
       "      <td>2</td>\n",
       "    </tr>\n",
       "    <tr>\n",
       "      <th>4</th>\n",
       "      <td>1</td>\n",
       "      <td>1200</td>\n",
       "      <td>7</td>\n",
       "      <td>10</td>\n",
       "      <td>2</td>\n",
       "      <td>2</td>\n",
       "      <td>0</td>\n",
       "      <td>6</td>\n",
       "      <td>2</td>\n",
       "      <td>2</td>\n",
       "    </tr>\n",
       "  </tbody>\n",
       "</table>\n",
       "</div>"
      ],
      "text/plain": [
       "   0     1   2   3  4  5  6   7   8  9\n",
       "0  1  1216   3   4  2  2  0   2   1  3\n",
       "1  3  1800   7   7  3  3  2   4   2  2\n",
       "2  1  1195  47  91  2  2  0  89  49  2\n",
       "3  1  1198  48  91  2  2  0  87  56  2\n",
       "4  1  1200   7  10  2  2  0   6   2  2"
      ]
     },
     "execution_count": 30,
     "metadata": {},
     "output_type": "execute_result"
    }
   ],
   "source": [
    "scores = [3, 2, 2, 2, 2, 2, 3, 3, 2, 2, 2, 2, 3, 3, 3, 1, 2, 3, 1, 2, 2, 1, 2, 1, 1, 1]\n",
    "\n",
    "features.append(scores)\n",
    "\n",
    "print(features)\n",
    "\n",
    "pd_features = pd.DataFrame(features)\n",
    "\n",
    "pd_features = pd_features.transpose()\n",
    "\n",
    "pd_features.head()"
   ]
  },
  {
   "cell_type": "code",
   "execution_count": 31,
   "metadata": {},
   "outputs": [
    {
     "ename": "KeyError",
     "evalue": "\"Passing list-likes to .loc or [] with any missing labels is no longer supported. The following labels were missing: Int64Index([10], dtype='int64'). See https://pandas.pydata.org/pandas-docs/stable/user_guide/indexing.html#deprecate-loc-reindex-listlike\"",
     "output_type": "error",
     "traceback": [
      "\u001b[0;31m---------------------------------------------------------------------------\u001b[0m",
      "\u001b[0;31mKeyError\u001b[0m                                  Traceback (most recent call last)",
      "\u001b[0;32m<ipython-input-31-4140f86c10e0>\u001b[0m in \u001b[0;36m<module>\u001b[0;34m\u001b[0m\n\u001b[1;32m      4\u001b[0m \u001b[0mtagging_name\u001b[0m \u001b[0;34m=\u001b[0m \u001b[0;34m[\u001b[0m\u001b[0;34m'qwertyuiop'\u001b[0m\u001b[0;34m,\u001b[0m \u001b[0;34m'6_3_2@g.cnees.kr'\u001b[0m\u001b[0;34m,\u001b[0m \u001b[0;34m'bonhyuk'\u001b[0m\u001b[0;34m,\u001b[0m \u001b[0;34m'6_3_5@g.cnees.kr'\u001b[0m\u001b[0;34m,\u001b[0m \u001b[0;34m'kfc'\u001b[0m\u001b[0;34m,\u001b[0m \u001b[0;34m'npe#31'\u001b[0m\u001b[0;34m,\u001b[0m \u001b[0;34m'6_3_13@g.cnees.kr'\u001b[0m\u001b[0;34m,\u001b[0m \u001b[0;34m'6_3_27@g.cnees.kr'\u001b[0m\u001b[0;34m,\u001b[0m \u001b[0;34m'6_3_8@g.cnees.kr'\u001b[0m\u001b[0;34m,\u001b[0m \u001b[0;34m'6_3_17@g.cnees.kr'\u001b[0m\u001b[0;34m,\u001b[0m \u001b[0;34m'임세현'\u001b[0m\u001b[0;34m,\u001b[0m \u001b[0;34m'정윤석'\u001b[0m\u001b[0;34m,\u001b[0m \u001b[0;34m'6_3_19@g.cnees.kr'\u001b[0m\u001b[0;34m,\u001b[0m \u001b[0;34m'6_3_11@g.cnees.kr'\u001b[0m\u001b[0;34m,\u001b[0m \u001b[0;34m'6_3_1@g.cnees.kr'\u001b[0m\u001b[0;34m,\u001b[0m \u001b[0;34m'6_3_12@g.cnees.kr'\u001b[0m\u001b[0;34m,\u001b[0m \u001b[0;34m'g.cnees.kr'\u001b[0m\u001b[0;34m,\u001b[0m \u001b[0;34m'6_3_6@g.cnees.kr'\u001b[0m\u001b[0;34m,\u001b[0m \u001b[0;34m'안성민'\u001b[0m\u001b[0;34m,\u001b[0m \u001b[0;34m'eunhalim0908'\u001b[0m\u001b[0;34m,\u001b[0m \u001b[0;34m'6_3_9_2@g.cnees.kr'\u001b[0m\u001b[0;34m,\u001b[0m \u001b[0;34m'6_3_14@g.cnees.kr'\u001b[0m\u001b[0;34m,\u001b[0m \u001b[0;34m'jisu0512'\u001b[0m\u001b[0;34m,\u001b[0m \u001b[0;34m'6_3_20@g.cnees.kr'\u001b[0m\u001b[0;34m,\u001b[0m \u001b[0;34m'6_3_26@g.cnees.kr'\u001b[0m\u001b[0;34m,\u001b[0m \u001b[0;34m'6_3_18@g.cnees.kr'\u001b[0m\u001b[0;34m]\u001b[0m\u001b[0;34m\u001b[0m\u001b[0;34m\u001b[0m\u001b[0m\n\u001b[1;32m      5\u001b[0m \u001b[0;34m\u001b[0m\u001b[0m\n\u001b[0;32m----> 6\u001b[0;31m \u001b[0mx_data\u001b[0m \u001b[0;34m=\u001b[0m \u001b[0mpd_features\u001b[0m\u001b[0;34m.\u001b[0m\u001b[0mloc\u001b[0m\u001b[0;34m[\u001b[0m\u001b[0;34m:\u001b[0m\u001b[0;34m,\u001b[0m \u001b[0;34m[\u001b[0m\u001b[0;36m0\u001b[0m\u001b[0;34m,\u001b[0m \u001b[0;36m1\u001b[0m\u001b[0;34m,\u001b[0m \u001b[0;36m2\u001b[0m\u001b[0;34m,\u001b[0m \u001b[0;36m3\u001b[0m\u001b[0;34m,\u001b[0m \u001b[0;36m4\u001b[0m\u001b[0;34m,\u001b[0m \u001b[0;36m5\u001b[0m\u001b[0;34m,\u001b[0m \u001b[0;36m6\u001b[0m\u001b[0;34m,\u001b[0m \u001b[0;36m7\u001b[0m\u001b[0;34m,\u001b[0m \u001b[0;36m8\u001b[0m\u001b[0;34m,\u001b[0m \u001b[0;36m9\u001b[0m\u001b[0;34m,\u001b[0m \u001b[0;36m10\u001b[0m\u001b[0;34m]\u001b[0m\u001b[0;34m]\u001b[0m\u001b[0;34m\u001b[0m\u001b[0;34m\u001b[0m\u001b[0m\n\u001b[0m\u001b[1;32m      7\u001b[0m \u001b[0my_data\u001b[0m \u001b[0;34m=\u001b[0m \u001b[0mpd_features\u001b[0m\u001b[0;34m.\u001b[0m\u001b[0mloc\u001b[0m\u001b[0;34m[\u001b[0m\u001b[0;34m:\u001b[0m\u001b[0;34m,\u001b[0m \u001b[0;34m[\u001b[0m\u001b[0;36m11\u001b[0m\u001b[0;34m]\u001b[0m\u001b[0;34m]\u001b[0m\u001b[0;34m\u001b[0m\u001b[0;34m\u001b[0m\u001b[0m\n",
      "\u001b[0;32m/usr/local/lib/python3.6/dist-packages/pandas/core/indexing.py\u001b[0m in \u001b[0;36m__getitem__\u001b[0;34m(self, key)\u001b[0m\n\u001b[1;32m    871\u001b[0m                     \u001b[0;31m# AttributeError for IntervalTree get_value\u001b[0m\u001b[0;34m\u001b[0m\u001b[0;34m\u001b[0m\u001b[0;34m\u001b[0m\u001b[0m\n\u001b[1;32m    872\u001b[0m                     \u001b[0;32mpass\u001b[0m\u001b[0;34m\u001b[0m\u001b[0;34m\u001b[0m\u001b[0m\n\u001b[0;32m--> 873\u001b[0;31m             \u001b[0;32mreturn\u001b[0m \u001b[0mself\u001b[0m\u001b[0;34m.\u001b[0m\u001b[0m_getitem_tuple\u001b[0m\u001b[0;34m(\u001b[0m\u001b[0mkey\u001b[0m\u001b[0;34m)\u001b[0m\u001b[0;34m\u001b[0m\u001b[0;34m\u001b[0m\u001b[0m\n\u001b[0m\u001b[1;32m    874\u001b[0m         \u001b[0;32melse\u001b[0m\u001b[0;34m:\u001b[0m\u001b[0;34m\u001b[0m\u001b[0;34m\u001b[0m\u001b[0m\n\u001b[1;32m    875\u001b[0m             \u001b[0;31m# we by definition only have the 0th axis\u001b[0m\u001b[0;34m\u001b[0m\u001b[0;34m\u001b[0m\u001b[0;34m\u001b[0m\u001b[0m\n",
      "\u001b[0;32m/usr/local/lib/python3.6/dist-packages/pandas/core/indexing.py\u001b[0m in \u001b[0;36m_getitem_tuple\u001b[0;34m(self, tup)\u001b[0m\n\u001b[1;32m   1053\u001b[0m             \u001b[0;32mreturn\u001b[0m \u001b[0mself\u001b[0m\u001b[0;34m.\u001b[0m\u001b[0m_multi_take\u001b[0m\u001b[0;34m(\u001b[0m\u001b[0mtup\u001b[0m\u001b[0;34m)\u001b[0m\u001b[0;34m\u001b[0m\u001b[0;34m\u001b[0m\u001b[0m\n\u001b[1;32m   1054\u001b[0m \u001b[0;34m\u001b[0m\u001b[0m\n\u001b[0;32m-> 1055\u001b[0;31m         \u001b[0;32mreturn\u001b[0m \u001b[0mself\u001b[0m\u001b[0;34m.\u001b[0m\u001b[0m_getitem_tuple_same_dim\u001b[0m\u001b[0;34m(\u001b[0m\u001b[0mtup\u001b[0m\u001b[0;34m)\u001b[0m\u001b[0;34m\u001b[0m\u001b[0;34m\u001b[0m\u001b[0m\n\u001b[0m\u001b[1;32m   1056\u001b[0m \u001b[0;34m\u001b[0m\u001b[0m\n\u001b[1;32m   1057\u001b[0m     \u001b[0;32mdef\u001b[0m \u001b[0m_get_label\u001b[0m\u001b[0;34m(\u001b[0m\u001b[0mself\u001b[0m\u001b[0;34m,\u001b[0m \u001b[0mlabel\u001b[0m\u001b[0;34m,\u001b[0m \u001b[0maxis\u001b[0m\u001b[0;34m:\u001b[0m \u001b[0mint\u001b[0m\u001b[0;34m)\u001b[0m\u001b[0;34m:\u001b[0m\u001b[0;34m\u001b[0m\u001b[0;34m\u001b[0m\u001b[0m\n",
      "\u001b[0;32m/usr/local/lib/python3.6/dist-packages/pandas/core/indexing.py\u001b[0m in \u001b[0;36m_getitem_tuple_same_dim\u001b[0;34m(self, tup)\u001b[0m\n\u001b[1;32m    748\u001b[0m                 \u001b[0;32mcontinue\u001b[0m\u001b[0;34m\u001b[0m\u001b[0;34m\u001b[0m\u001b[0m\n\u001b[1;32m    749\u001b[0m \u001b[0;34m\u001b[0m\u001b[0m\n\u001b[0;32m--> 750\u001b[0;31m             \u001b[0mretval\u001b[0m \u001b[0;34m=\u001b[0m \u001b[0mgetattr\u001b[0m\u001b[0;34m(\u001b[0m\u001b[0mretval\u001b[0m\u001b[0;34m,\u001b[0m \u001b[0mself\u001b[0m\u001b[0;34m.\u001b[0m\u001b[0mname\u001b[0m\u001b[0;34m)\u001b[0m\u001b[0;34m.\u001b[0m\u001b[0m_getitem_axis\u001b[0m\u001b[0;34m(\u001b[0m\u001b[0mkey\u001b[0m\u001b[0;34m,\u001b[0m \u001b[0maxis\u001b[0m\u001b[0;34m=\u001b[0m\u001b[0mi\u001b[0m\u001b[0;34m)\u001b[0m\u001b[0;34m\u001b[0m\u001b[0;34m\u001b[0m\u001b[0m\n\u001b[0m\u001b[1;32m    751\u001b[0m             \u001b[0;31m# We should never have retval.ndim < self.ndim, as that should\u001b[0m\u001b[0;34m\u001b[0m\u001b[0;34m\u001b[0m\u001b[0;34m\u001b[0m\u001b[0m\n\u001b[1;32m    752\u001b[0m             \u001b[0;31m#  be handled by the _getitem_lowerdim call above.\u001b[0m\u001b[0;34m\u001b[0m\u001b[0;34m\u001b[0m\u001b[0;34m\u001b[0m\u001b[0m\n",
      "\u001b[0;32m/usr/local/lib/python3.6/dist-packages/pandas/core/indexing.py\u001b[0m in \u001b[0;36m_getitem_axis\u001b[0;34m(self, key, axis)\u001b[0m\n\u001b[1;32m   1097\u001b[0m                     \u001b[0;32mraise\u001b[0m \u001b[0mValueError\u001b[0m\u001b[0;34m(\u001b[0m\u001b[0;34m\"Cannot index with multidimensional key\"\u001b[0m\u001b[0;34m)\u001b[0m\u001b[0;34m\u001b[0m\u001b[0;34m\u001b[0m\u001b[0m\n\u001b[1;32m   1098\u001b[0m \u001b[0;34m\u001b[0m\u001b[0m\n\u001b[0;32m-> 1099\u001b[0;31m                 \u001b[0;32mreturn\u001b[0m \u001b[0mself\u001b[0m\u001b[0;34m.\u001b[0m\u001b[0m_getitem_iterable\u001b[0m\u001b[0;34m(\u001b[0m\u001b[0mkey\u001b[0m\u001b[0;34m,\u001b[0m \u001b[0maxis\u001b[0m\u001b[0;34m=\u001b[0m\u001b[0maxis\u001b[0m\u001b[0;34m)\u001b[0m\u001b[0;34m\u001b[0m\u001b[0;34m\u001b[0m\u001b[0m\n\u001b[0m\u001b[1;32m   1100\u001b[0m \u001b[0;34m\u001b[0m\u001b[0m\n\u001b[1;32m   1101\u001b[0m             \u001b[0;31m# nested tuple slicing\u001b[0m\u001b[0;34m\u001b[0m\u001b[0;34m\u001b[0m\u001b[0;34m\u001b[0m\u001b[0m\n",
      "\u001b[0;32m/usr/local/lib/python3.6/dist-packages/pandas/core/indexing.py\u001b[0m in \u001b[0;36m_getitem_iterable\u001b[0;34m(self, key, axis)\u001b[0m\n\u001b[1;32m   1035\u001b[0m \u001b[0;34m\u001b[0m\u001b[0m\n\u001b[1;32m   1036\u001b[0m         \u001b[0;31m# A collection of keys\u001b[0m\u001b[0;34m\u001b[0m\u001b[0;34m\u001b[0m\u001b[0;34m\u001b[0m\u001b[0m\n\u001b[0;32m-> 1037\u001b[0;31m         \u001b[0mkeyarr\u001b[0m\u001b[0;34m,\u001b[0m \u001b[0mindexer\u001b[0m \u001b[0;34m=\u001b[0m \u001b[0mself\u001b[0m\u001b[0;34m.\u001b[0m\u001b[0m_get_listlike_indexer\u001b[0m\u001b[0;34m(\u001b[0m\u001b[0mkey\u001b[0m\u001b[0;34m,\u001b[0m \u001b[0maxis\u001b[0m\u001b[0;34m,\u001b[0m \u001b[0mraise_missing\u001b[0m\u001b[0;34m=\u001b[0m\u001b[0;32mFalse\u001b[0m\u001b[0;34m)\u001b[0m\u001b[0;34m\u001b[0m\u001b[0;34m\u001b[0m\u001b[0m\n\u001b[0m\u001b[1;32m   1038\u001b[0m         return self.obj._reindex_with_indexers(\n\u001b[1;32m   1039\u001b[0m             \u001b[0;34m{\u001b[0m\u001b[0maxis\u001b[0m\u001b[0;34m:\u001b[0m \u001b[0;34m[\u001b[0m\u001b[0mkeyarr\u001b[0m\u001b[0;34m,\u001b[0m \u001b[0mindexer\u001b[0m\u001b[0;34m]\u001b[0m\u001b[0;34m}\u001b[0m\u001b[0;34m,\u001b[0m \u001b[0mcopy\u001b[0m\u001b[0;34m=\u001b[0m\u001b[0;32mTrue\u001b[0m\u001b[0;34m,\u001b[0m \u001b[0mallow_dups\u001b[0m\u001b[0;34m=\u001b[0m\u001b[0;32mTrue\u001b[0m\u001b[0;34m\u001b[0m\u001b[0;34m\u001b[0m\u001b[0m\n",
      "\u001b[0;32m/usr/local/lib/python3.6/dist-packages/pandas/core/indexing.py\u001b[0m in \u001b[0;36m_get_listlike_indexer\u001b[0;34m(self, key, axis, raise_missing)\u001b[0m\n\u001b[1;32m   1252\u001b[0m             \u001b[0mkeyarr\u001b[0m\u001b[0;34m,\u001b[0m \u001b[0mindexer\u001b[0m\u001b[0;34m,\u001b[0m \u001b[0mnew_indexer\u001b[0m \u001b[0;34m=\u001b[0m \u001b[0max\u001b[0m\u001b[0;34m.\u001b[0m\u001b[0m_reindex_non_unique\u001b[0m\u001b[0;34m(\u001b[0m\u001b[0mkeyarr\u001b[0m\u001b[0;34m)\u001b[0m\u001b[0;34m\u001b[0m\u001b[0;34m\u001b[0m\u001b[0m\n\u001b[1;32m   1253\u001b[0m \u001b[0;34m\u001b[0m\u001b[0m\n\u001b[0;32m-> 1254\u001b[0;31m         \u001b[0mself\u001b[0m\u001b[0;34m.\u001b[0m\u001b[0m_validate_read_indexer\u001b[0m\u001b[0;34m(\u001b[0m\u001b[0mkeyarr\u001b[0m\u001b[0;34m,\u001b[0m \u001b[0mindexer\u001b[0m\u001b[0;34m,\u001b[0m \u001b[0maxis\u001b[0m\u001b[0;34m,\u001b[0m \u001b[0mraise_missing\u001b[0m\u001b[0;34m=\u001b[0m\u001b[0mraise_missing\u001b[0m\u001b[0;34m)\u001b[0m\u001b[0;34m\u001b[0m\u001b[0;34m\u001b[0m\u001b[0m\n\u001b[0m\u001b[1;32m   1255\u001b[0m         \u001b[0;32mreturn\u001b[0m \u001b[0mkeyarr\u001b[0m\u001b[0;34m,\u001b[0m \u001b[0mindexer\u001b[0m\u001b[0;34m\u001b[0m\u001b[0;34m\u001b[0m\u001b[0m\n\u001b[1;32m   1256\u001b[0m \u001b[0;34m\u001b[0m\u001b[0m\n",
      "\u001b[0;32m/usr/local/lib/python3.6/dist-packages/pandas/core/indexing.py\u001b[0m in \u001b[0;36m_validate_read_indexer\u001b[0;34m(self, key, indexer, axis, raise_missing)\u001b[0m\n\u001b[1;32m   1314\u001b[0m                 \u001b[0;32mwith\u001b[0m \u001b[0moption_context\u001b[0m\u001b[0;34m(\u001b[0m\u001b[0;34m\"display.max_seq_items\"\u001b[0m\u001b[0;34m,\u001b[0m \u001b[0;36m10\u001b[0m\u001b[0;34m,\u001b[0m \u001b[0;34m\"display.width\"\u001b[0m\u001b[0;34m,\u001b[0m \u001b[0;36m80\u001b[0m\u001b[0;34m)\u001b[0m\u001b[0;34m:\u001b[0m\u001b[0;34m\u001b[0m\u001b[0;34m\u001b[0m\u001b[0m\n\u001b[1;32m   1315\u001b[0m                     raise KeyError(\n\u001b[0;32m-> 1316\u001b[0;31m                         \u001b[0;34m\"Passing list-likes to .loc or [] with any missing labels \"\u001b[0m\u001b[0;34m\u001b[0m\u001b[0;34m\u001b[0m\u001b[0m\n\u001b[0m\u001b[1;32m   1317\u001b[0m                         \u001b[0;34m\"is no longer supported. \"\u001b[0m\u001b[0;34m\u001b[0m\u001b[0;34m\u001b[0m\u001b[0m\n\u001b[1;32m   1318\u001b[0m                         \u001b[0;34mf\"The following labels were missing: {not_found}. \"\u001b[0m\u001b[0;34m\u001b[0m\u001b[0;34m\u001b[0m\u001b[0m\n",
      "\u001b[0;31mKeyError\u001b[0m: \"Passing list-likes to .loc or [] with any missing labels is no longer supported. The following labels were missing: Int64Index([10], dtype='int64'). See https://pandas.pydata.org/pandas-docs/stable/user_guide/indexing.html#deprecate-loc-reindex-listlike\""
     ]
    }
   ],
   "source": [
    "#이중 리스트 만들기\n",
    "#직접 넣어봐야해서 하드코딩할 수 밖에 없음\n",
    "#3점 성실도 최고, 2점 보통, 1점 성실도 노력 필요(더미로 만든 데이터임)\n",
    "tagging_name = ['qwertyuiop', '6_3_2@g.cnees.kr', 'bonhyuk', '6_3_5@g.cnees.kr', 'kfc', 'npe#31', '6_3_13@g.cnees.kr', '6_3_27@g.cnees.kr', '6_3_8@g.cnees.kr', '6_3_17@g.cnees.kr', '임세현', '정윤석', '6_3_19@g.cnees.kr', '6_3_11@g.cnees.kr', '6_3_1@g.cnees.kr', '6_3_12@g.cnees.kr', 'g.cnees.kr', '6_3_6@g.cnees.kr', '안성민', 'eunhalim0908', '6_3_9_2@g.cnees.kr', '6_3_14@g.cnees.kr', 'jisu0512', '6_3_20@g.cnees.kr', '6_3_26@g.cnees.kr', '6_3_18@g.cnees.kr']\n",
    "\n",
    "x_data = pd_features.loc[:, [0, 1, 2, 3, 4, 5, 6, 7, 8, 9, 10]]\n",
    "y_data = pd_features.loc[:, [11]]"
   ]
  },
  {
   "cell_type": "code",
   "execution_count": null,
   "metadata": {},
   "outputs": [
    {
     "data": {
      "text/html": [
       "<div>\n",
       "<style scoped>\n",
       "    .dataframe tbody tr th:only-of-type {\n",
       "        vertical-align: middle;\n",
       "    }\n",
       "\n",
       "    .dataframe tbody tr th {\n",
       "        vertical-align: top;\n",
       "    }\n",
       "\n",
       "    .dataframe thead th {\n",
       "        text-align: right;\n",
       "    }\n",
       "</style>\n",
       "<table border=\"1\" class=\"dataframe\">\n",
       "  <thead>\n",
       "    <tr style=\"text-align: right;\">\n",
       "      <th></th>\n",
       "      <th>0</th>\n",
       "      <th>1</th>\n",
       "      <th>2</th>\n",
       "      <th>3</th>\n",
       "      <th>4</th>\n",
       "      <th>5</th>\n",
       "      <th>6</th>\n",
       "      <th>7</th>\n",
       "      <th>8</th>\n",
       "      <th>9</th>\n",
       "      <th>10</th>\n",
       "    </tr>\n",
       "  </thead>\n",
       "  <tbody>\n",
       "    <tr>\n",
       "      <th>0</th>\n",
       "      <td>1</td>\n",
       "      <td>1216</td>\n",
       "      <td>3</td>\n",
       "      <td>4</td>\n",
       "      <td>2</td>\n",
       "      <td>2</td>\n",
       "      <td>0</td>\n",
       "      <td>2</td>\n",
       "      <td>1</td>\n",
       "      <td>3</td>\n",
       "      <td>3</td>\n",
       "    </tr>\n",
       "    <tr>\n",
       "      <th>1</th>\n",
       "      <td>3</td>\n",
       "      <td>1800</td>\n",
       "      <td>7</td>\n",
       "      <td>7</td>\n",
       "      <td>3</td>\n",
       "      <td>3</td>\n",
       "      <td>2</td>\n",
       "      <td>4</td>\n",
       "      <td>2</td>\n",
       "      <td>2</td>\n",
       "      <td>2</td>\n",
       "    </tr>\n",
       "    <tr>\n",
       "      <th>2</th>\n",
       "      <td>1</td>\n",
       "      <td>1195</td>\n",
       "      <td>47</td>\n",
       "      <td>91</td>\n",
       "      <td>2</td>\n",
       "      <td>2</td>\n",
       "      <td>0</td>\n",
       "      <td>89</td>\n",
       "      <td>49</td>\n",
       "      <td>2</td>\n",
       "      <td>2</td>\n",
       "    </tr>\n",
       "    <tr>\n",
       "      <th>3</th>\n",
       "      <td>1</td>\n",
       "      <td>1198</td>\n",
       "      <td>48</td>\n",
       "      <td>91</td>\n",
       "      <td>2</td>\n",
       "      <td>2</td>\n",
       "      <td>0</td>\n",
       "      <td>87</td>\n",
       "      <td>56</td>\n",
       "      <td>2</td>\n",
       "      <td>2</td>\n",
       "    </tr>\n",
       "    <tr>\n",
       "      <th>4</th>\n",
       "      <td>1</td>\n",
       "      <td>1200</td>\n",
       "      <td>7</td>\n",
       "      <td>10</td>\n",
       "      <td>2</td>\n",
       "      <td>2</td>\n",
       "      <td>0</td>\n",
       "      <td>6</td>\n",
       "      <td>2</td>\n",
       "      <td>2</td>\n",
       "      <td>2</td>\n",
       "    </tr>\n",
       "  </tbody>\n",
       "</table>\n",
       "</div>"
      ],
      "text/plain": [
       "   0     1   2   3   4   5   6   7   8   9   10\n",
       "0   1  1216   3   4   2   2   0   2   1   3   3\n",
       "1   3  1800   7   7   3   3   2   4   2   2   2\n",
       "2   1  1195  47  91   2   2   0  89  49   2   2\n",
       "3   1  1198  48  91   2   2   0  87  56   2   2\n",
       "4   1  1200   7  10   2   2   0   6   2   2   2"
      ]
     },
     "execution_count": 92,
     "metadata": {},
     "output_type": "execute_result"
    }
   ],
   "source": [
    "x_data.head()"
   ]
  },
  {
   "cell_type": "code",
   "execution_count": null,
   "metadata": {},
   "outputs": [
    {
     "data": {
      "text/html": [
       "<div>\n",
       "<style scoped>\n",
       "    .dataframe tbody tr th:only-of-type {\n",
       "        vertical-align: middle;\n",
       "    }\n",
       "\n",
       "    .dataframe tbody tr th {\n",
       "        vertical-align: top;\n",
       "    }\n",
       "\n",
       "    .dataframe thead th {\n",
       "        text-align: right;\n",
       "    }\n",
       "</style>\n",
       "<table border=\"1\" class=\"dataframe\">\n",
       "  <thead>\n",
       "    <tr style=\"text-align: right;\">\n",
       "      <th></th>\n",
       "      <th>11</th>\n",
       "    </tr>\n",
       "  </thead>\n",
       "  <tbody>\n",
       "    <tr>\n",
       "      <th>0</th>\n",
       "      <td>3</td>\n",
       "    </tr>\n",
       "    <tr>\n",
       "      <th>1</th>\n",
       "      <td>2</td>\n",
       "    </tr>\n",
       "    <tr>\n",
       "      <th>2</th>\n",
       "      <td>2</td>\n",
       "    </tr>\n",
       "    <tr>\n",
       "      <th>3</th>\n",
       "      <td>2</td>\n",
       "    </tr>\n",
       "    <tr>\n",
       "      <th>4</th>\n",
       "      <td>2</td>\n",
       "    </tr>\n",
       "  </tbody>\n",
       "</table>\n",
       "</div>"
      ],
      "text/plain": [
       "   11\n",
       "0   3\n",
       "1   2\n",
       "2   2\n",
       "3   2\n",
       "4   2"
      ]
     },
     "execution_count": 93,
     "metadata": {},
     "output_type": "execute_result"
    }
   ],
   "source": [
    "y_data.head()"
   ]
  },
  {
   "cell_type": "code",
   "execution_count": 32,
   "metadata": {},
   "outputs": [
    {
     "ename": "NameError",
     "evalue": "name 'x_data' is not defined",
     "output_type": "error",
     "traceback": [
      "\u001b[0;31m---------------------------------------------------------------------------\u001b[0m",
      "\u001b[0;31mNameError\u001b[0m                                 Traceback (most recent call last)",
      "\u001b[0;32m<ipython-input-32-77892d962e75>\u001b[0m in \u001b[0;36m<module>\u001b[0;34m\u001b[0m\n\u001b[1;32m      2\u001b[0m \u001b[0;31m#데이터 분류하기(훈련, 테스트셋)\u001b[0m\u001b[0;34m\u001b[0m\u001b[0;34m\u001b[0m\u001b[0;34m\u001b[0m\u001b[0m\n\u001b[1;32m      3\u001b[0m \u001b[0;34m\u001b[0m\u001b[0m\n\u001b[0;32m----> 4\u001b[0;31m \u001b[0mX_train\u001b[0m\u001b[0;34m,\u001b[0m \u001b[0mX_test\u001b[0m\u001b[0;34m,\u001b[0m \u001b[0my_train\u001b[0m\u001b[0;34m,\u001b[0m \u001b[0my_test\u001b[0m \u001b[0;34m=\u001b[0m \u001b[0mtrain_test_split\u001b[0m\u001b[0;34m(\u001b[0m\u001b[0mx_data\u001b[0m\u001b[0;34m,\u001b[0m \u001b[0my_data\u001b[0m\u001b[0;34m,\u001b[0m \u001b[0mtest_size\u001b[0m \u001b[0;34m=\u001b[0m \u001b[0;36m0.6\u001b[0m\u001b[0;34m,\u001b[0m \u001b[0mrandom_state\u001b[0m\u001b[0;34m=\u001b[0m\u001b[0;36m42\u001b[0m\u001b[0;34m)\u001b[0m\u001b[0;34m\u001b[0m\u001b[0;34m\u001b[0m\u001b[0m\n\u001b[0m",
      "\u001b[0;31mNameError\u001b[0m: name 'x_data' is not defined"
     ]
    }
   ],
   "source": [
    "from sklearn.model_selection import train_test_split\n",
    "#데이터 분류하기(훈련, 테스트셋)\n",
    "\n",
    "X_train, X_test, y_train, y_test = train_test_split(x_data, y_data, test_size = 0.6, random_state=42)"
   ]
  },
  {
   "cell_type": "code",
   "execution_count": null,
   "metadata": {},
   "outputs": [],
   "source": [
    "from sklearn.ensemble import RandomForestClassifier\n",
    "\n",
    "model = RandomForestClassifier(n_estimators=5)\n"
   ]
  },
  {
   "cell_type": "code",
   "execution_count": null,
   "metadata": {},
   "outputs": [
    {
     "name": "stderr",
     "output_type": "stream",
     "text": [
      "/usr/local/lib/python3.6/dist-packages/ipykernel_launcher.py:1: DataConversionWarning: A column-vector y was passed when a 1d array was expected. Please change the shape of y to (n_samples,), for example using ravel().\n",
      "  \"\"\"Entry point for launching an IPython kernel.\n"
     ]
    },
    {
     "data": {
      "text/plain": [
       "RandomForestClassifier(n_estimators=5)"
      ]
     },
     "execution_count": 124,
     "metadata": {},
     "output_type": "execute_result"
    }
   ],
   "source": [
    "model.fit(X_train, y_train)"
   ]
  },
  {
   "cell_type": "code",
   "execution_count": 33,
   "metadata": {},
   "outputs": [
    {
     "ename": "NameError",
     "evalue": "name 'model' is not defined",
     "output_type": "error",
     "traceback": [
      "\u001b[0;31m---------------------------------------------------------------------------\u001b[0m",
      "\u001b[0;31mNameError\u001b[0m                                 Traceback (most recent call last)",
      "\u001b[0;32m<ipython-input-33-fee8b42459b2>\u001b[0m in \u001b[0;36m<module>\u001b[0;34m\u001b[0m\n\u001b[1;32m      1\u001b[0m \u001b[0;31m#결과가 너무 복불복인데, 데이터의 양이 적기에 어쩔 수 없음\u001b[0m\u001b[0;34m\u001b[0m\u001b[0;34m\u001b[0m\u001b[0;34m\u001b[0m\u001b[0m\n\u001b[1;32m      2\u001b[0m \u001b[0;34m\u001b[0m\u001b[0m\n\u001b[0;32m----> 3\u001b[0;31m \u001b[0mprint\u001b[0m\u001b[0;34m(\u001b[0m\u001b[0;34m\"훈련 세트 정확도: {:.3f}\"\u001b[0m\u001b[0;34m.\u001b[0m\u001b[0mformat\u001b[0m\u001b[0;34m(\u001b[0m\u001b[0mmodel\u001b[0m\u001b[0;34m.\u001b[0m\u001b[0mscore\u001b[0m\u001b[0;34m(\u001b[0m\u001b[0mX_train\u001b[0m\u001b[0;34m,\u001b[0m \u001b[0my_train\u001b[0m\u001b[0;34m)\u001b[0m\u001b[0;34m)\u001b[0m \u001b[0;34m)\u001b[0m\u001b[0;34m\u001b[0m\u001b[0;34m\u001b[0m\u001b[0m\n\u001b[0m\u001b[1;32m      4\u001b[0m \u001b[0mprint\u001b[0m\u001b[0;34m(\u001b[0m\u001b[0;34m\"테스트 세트 정확도: {:.3f}\"\u001b[0m\u001b[0;34m.\u001b[0m\u001b[0mformat\u001b[0m\u001b[0;34m(\u001b[0m\u001b[0mmodel\u001b[0m\u001b[0;34m.\u001b[0m\u001b[0mscore\u001b[0m\u001b[0;34m(\u001b[0m\u001b[0mX_test\u001b[0m\u001b[0;34m,\u001b[0m \u001b[0my_test\u001b[0m\u001b[0;34m)\u001b[0m\u001b[0;34m)\u001b[0m \u001b[0;34m)\u001b[0m\u001b[0;34m\u001b[0m\u001b[0;34m\u001b[0m\u001b[0m\n",
      "\u001b[0;31mNameError\u001b[0m: name 'model' is not defined"
     ]
    }
   ],
   "source": [
    "#결과가 너무 복불복인데, 데이터의 양이 적기에 어쩔 수 없음\n",
    "\n",
    "print(\"훈련 세트 정확도: {:.3f}\".format(model.score(X_train, y_train)) )\n",
    "print(\"테스트 세트 정확도: {:.3f}\".format(model.score(X_test, y_test)) )"
   ]
  },
  {
   "cell_type": "markdown",
   "metadata": {},
   "source": []
  },
  {
   "cell_type": "markdown",
   "metadata": {},
   "source": []
  }
 ],
 "metadata": {
  "interpreter": {
   "hash": "31f2aee4e71d21fbe5cf8b01ff0e069b9275f58929596ceb00d14d90e3e16cd6"
  },
  "kernelspec": {
   "display_name": "Python 3.6.9 64-bit",
   "language": "python",
   "name": "python3"
  },
  "language_info": {
   "codemirror_mode": {
    "name": "ipython",
    "version": 3
   },
   "file_extension": ".py",
   "mimetype": "text/x-python",
   "name": "python",
   "nbconvert_exporter": "python",
   "pygments_lexer": "ipython3",
   "version": "3.6.9"
  },
  "orig_nbformat": 4
 },
 "nbformat": 4,
 "nbformat_minor": 2
}
