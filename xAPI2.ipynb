{
 "cells": [
  {
   "cell_type": "code",
   "execution_count": 5,
   "metadata": {},
   "outputs": [],
   "source": [
    "#json_parser 불러오기\n",
    "\n",
    "from json_parser import json_loader, json_parser_to_pd\n",
    "\n",
    "data_path = \"data/XAPI_npe_1215.json\"\n",
    "\n",
    "json_data = json_loader(data_path)"
   ]
  },
  {
   "cell_type": "code",
   "execution_count": 6,
   "metadata": {},
   "outputs": [
    {
     "name": "stdout",
     "output_type": "stream",
     "text": [
      "actor        0\n",
      "object       0\n",
      "verb         0\n",
      "timestamp    0\n",
      "dtype: int64\n"
     ]
    }
   ],
   "source": [
    "df_data = json_parser_to_pd(json_data)"
   ]
  },
  {
   "cell_type": "code",
   "execution_count": 7,
   "metadata": {},
   "outputs": [
    {
     "data": {
      "text/html": [
       "<div>\n",
       "<style scoped>\n",
       "    .dataframe tbody tr th:only-of-type {\n",
       "        vertical-align: middle;\n",
       "    }\n",
       "\n",
       "    .dataframe tbody tr th {\n",
       "        vertical-align: top;\n",
       "    }\n",
       "\n",
       "    .dataframe thead th {\n",
       "        text-align: right;\n",
       "    }\n",
       "</style>\n",
       "<table border=\"1\" class=\"dataframe\">\n",
       "  <thead>\n",
       "    <tr style=\"text-align: right;\">\n",
       "      <th></th>\n",
       "      <th>actor</th>\n",
       "      <th>object</th>\n",
       "      <th>verb</th>\n",
       "      <th>timestamp</th>\n",
       "    </tr>\n",
       "  </thead>\n",
       "  <tbody>\n",
       "    <tr>\n",
       "      <th>0</th>\n",
       "      <td>learner10</td>\n",
       "      <td>삼양문화 진로교육연구원 영화로 떠나는 진로여행 첫 번째_그릿(GRIT)</td>\n",
       "      <td>시청기록</td>\n",
       "      <td>2021-12-14T18:33:42.326</td>\n",
       "    </tr>\n",
       "    <tr>\n",
       "      <th>1</th>\n",
       "      <td>learner10</td>\n",
       "      <td>삼양문화 진로교육연구원 영화로 떠나는 진로여행 첫 번째_그릿(GRIT)</td>\n",
       "      <td>시청중</td>\n",
       "      <td>2021-12-14T18:33:43.406</td>\n",
       "    </tr>\n",
       "    <tr>\n",
       "      <th>2</th>\n",
       "      <td>learner10</td>\n",
       "      <td>삼양문화 진로교육연구원 영화로 떠나는 진로여행 첫 번째_그릿(GRIT)</td>\n",
       "      <td>실행</td>\n",
       "      <td>2021-12-14T18:33:45.010</td>\n",
       "    </tr>\n",
       "    <tr>\n",
       "      <th>3</th>\n",
       "      <td>learner10</td>\n",
       "      <td>삼양문화 진로교육연구원 영화로 떠나는 진로여행 첫 번째_그릿(GRIT)</td>\n",
       "      <td>시청중</td>\n",
       "      <td>2021-12-14T18:33:46.410</td>\n",
       "    </tr>\n",
       "    <tr>\n",
       "      <th>4</th>\n",
       "      <td>learner10</td>\n",
       "      <td>삼양문화 진로교육연구원 영화로 떠나는 진로여행 첫 번째_그릿(GRIT)</td>\n",
       "      <td>시청중</td>\n",
       "      <td>2021-12-14T18:33:47.424</td>\n",
       "    </tr>\n",
       "  </tbody>\n",
       "</table>\n",
       "</div>"
      ],
      "text/plain": [
       "       actor                                   object  verb  \\\n",
       "0  learner10  삼양문화 진로교육연구원 영화로 떠나는 진로여행 첫 번째_그릿(GRIT)  시청기록   \n",
       "1  learner10  삼양문화 진로교육연구원 영화로 떠나는 진로여행 첫 번째_그릿(GRIT)   시청중   \n",
       "2  learner10  삼양문화 진로교육연구원 영화로 떠나는 진로여행 첫 번째_그릿(GRIT)    실행   \n",
       "3  learner10  삼양문화 진로교육연구원 영화로 떠나는 진로여행 첫 번째_그릿(GRIT)   시청중   \n",
       "4  learner10  삼양문화 진로교육연구원 영화로 떠나는 진로여행 첫 번째_그릿(GRIT)   시청중   \n",
       "\n",
       "                 timestamp  \n",
       "0  2021-12-14T18:33:42.326  \n",
       "1  2021-12-14T18:33:43.406  \n",
       "2  2021-12-14T18:33:45.010  \n",
       "3  2021-12-14T18:33:46.410  \n",
       "4  2021-12-14T18:33:47.424  "
      ]
     },
     "execution_count": 7,
     "metadata": {},
     "output_type": "execute_result"
    }
   ],
   "source": [
    "df_data.head()"
   ]
  },
  {
   "cell_type": "code",
   "execution_count": null,
   "metadata": {},
   "outputs": [],
   "source": []
  }
 ],
 "metadata": {
  "interpreter": {
   "hash": "31f2aee4e71d21fbe5cf8b01ff0e069b9275f58929596ceb00d14d90e3e16cd6"
  },
  "kernelspec": {
   "display_name": "Python 3.6.9 64-bit",
   "language": "python",
   "name": "python3"
  },
  "language_info": {
   "codemirror_mode": {
    "name": "ipython",
    "version": 3
   },
   "file_extension": ".py",
   "mimetype": "text/x-python",
   "name": "python",
   "nbconvert_exporter": "python",
   "pygments_lexer": "ipython3",
   "version": "3.6.9"
  },
  "orig_nbformat": 4
 },
 "nbformat": 4,
 "nbformat_minor": 2
}
